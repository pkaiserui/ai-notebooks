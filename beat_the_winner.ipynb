{
 "cells": [
  {
   "cell_type": "markdown",
   "metadata": {},
   "source": [
    "Attempt to refactor/analyze winning model. See discussion on http://forums.fast.ai/t/corporacion-favorita-grocery-sales-forecasting/8359/81"
   ]
  },
  {
   "cell_type": "markdown",
   "metadata": {},
   "source": [
    "## Load libraries"
   ]
  },
  {
   "cell_type": "code",
   "execution_count": 1,
   "metadata": {},
   "outputs": [
    {
     "name": "stdout",
     "output_type": "stream",
     "text": [
      "env: CUDA_DEVICE_ORDER=PCI_BUS_ID\n",
      "env: CUDA_VISIBLE_DEVICES=0\n"
     ]
    }
   ],
   "source": [
    "gpu=0\n",
    "%env CUDA_DEVICE_ORDER=PCI_BUS_ID\n",
    "%env CUDA_VISIBLE_DEVICES=$gpu\n",
    "%matplotlib inline\n",
    "%reload_ext autoreload\n",
    "%autoreload 2\n",
    "import os,sys\n",
    "sys.path.insert(1, '/home/kevin/fastai') #make a simlink to the code folder\n",
    "from fastai.structured import *\n",
    "from fastai.column_data import *\n",
    "from IPython.display import HTML\n",
    "np.set_printoptions(threshold=50, edgeitems=20)\n",
    "from datetime import date, timedelta"
   ]
  },
  {
   "cell_type": "markdown",
   "metadata": {},
   "source": [
    "## Functions"
   ]
  },
  {
   "cell_type": "code",
   "execution_count": 2,
   "metadata": {},
   "outputs": [],
   "source": [
    "#paths\n",
    "data_path = '/home/kevin/nbs/kaggle/GrocerySales/data/'\n",
    "slowdata = data_path + 'slowdisk/'; slowdata\n",
    "simple = slowdata + 'replicate_winner/'\n",
    "#leaves duplicate field names on left and appends with _y on right\n",
    "def join_df(left, right, left_on, right_on=None):\n",
    "    if right_on is None: right_on=left_on\n",
    "    return left.merge(right, how='left', left_on=left_on, right_on=right_on, suffixes=(\"\", \"_y\"))"
   ]
  },
  {
   "cell_type": "code",
   "execution_count": 3,
   "metadata": {},
   "outputs": [],
   "source": [
    "#normalize and denormalize targets\n",
    "def normy(y):\n",
    "    meany=np.mean(y)\n",
    "    stdevy = np.std(y)\n",
    "    ynorm = (y-meany)/stdevy\n",
    "    return meany, stdevy, ynorm\n",
    "\n",
    "def denorm(y, meany, stdevy, r=3):\n",
    "    return np.round(y*stdevy+meany, r)\n",
    "\n",
    "#\n",
    "def trainable_params(m):\n",
    "    model_parameters = filter(lambda p: p.requires_grad, m.model.parameters())\n",
    "    return sum([np.prod(p.size()) for p in model_parameters])\n",
    "\n",
    "def mae(inp, targ):\n",
    "    inp = inp.view(inp.numel())\n",
    "    targ = targ.view(targ.numel())\n",
    "    l = len(inp)\n",
    "    return torch.sum(torch.abs(inp-targ))/l\n",
    "\n",
    "#custom function I wrote to add a null check\n",
    "def apply_cats(df, trn, null_check=False):\n",
    "    for n,c in df.items():\n",
    "        if (n in trn.columns) and (trn[n].dtype.name=='category'):\n",
    "            df[n] = pd.Categorical(c, categories=trn[n].cat.categories, ordered=True)\n",
    "            if null_check and df[n].isnull().values.any():\n",
    "                raise ValueError(f'Target dataframe has null values for column {n}. This can occur if the target dataframe has category values not present in original.')"
   ]
  },
  {
   "cell_type": "markdown",
   "metadata": {},
   "source": [
    "## Load and clean data"
   ]
  },
  {
   "cell_type": "code",
   "execution_count": 4,
   "metadata": {
    "collapsed": true
   },
   "outputs": [],
   "source": [
    "# specify datatypes before loading the data will save you a ton of memory.\n",
    "dtypes = {'id': np.uint32,\n",
    "          'store_nbr': np.uint8, \n",
    "          'item_nbr': np.uint32, \n",
    "          'unit_sales': np.float32,\n",
    "          'class': np.uint16,\n",
    "          'onpromotion': np.bool,\n",
    "          'dcoilwtico':np.float16,\n",
    "          'transactions':np.uint16,\n",
    "          'cluster': np.uint32}"
   ]
  },
  {
   "cell_type": "code",
   "execution_count": 5,
   "metadata": {
    "collapsed": true
   },
   "outputs": [],
   "source": [
    "train = pd.read_csv(slowdata + 'train.csv', dtype=dtypes, usecols=[1,2,3,4,5], parse_dates=['date'],\n",
    "                    skiprows=range(1, 86672217) #Skip dates before 2016-08-01, and id column\n",
    "                   )\n",
    "test = pd.read_csv(slowdata + 'test.csv', dtype=dtypes, parse_dates=['date'])\n",
    "items = pd.read_csv(slowdata + 'items.csv', dtype=dtypes)\n",
    "stores = pd.read_csv(slowdata + 'stores.csv', dtype=dtypes)"
   ]
  },
  {
   "cell_type": "code",
   "execution_count": 6,
   "metadata": {
    "collapsed": true
   },
   "outputs": [],
   "source": [
    "# data older than march 1 showed no improvement. Setting to Jan so code works.\n",
    "train = train[train['date'] >= '2017-01-01']"
   ]
  },
  {
   "cell_type": "code",
   "execution_count": 7,
   "metadata": {
    "collapsed": true
   },
   "outputs": [],
   "source": [
    "train['unit_sales'] = train['unit_sales'].as_matrix().clip(min=0) # get rid of negs\n",
    "train['unit_sales'] =  train['unit_sales'].apply(pd.np.log1p) # transform for smoother training\n",
    "train['onpromotion'].fillna(False, inplace=True) # fill in the missing promotion data with 'False'\n",
    "test['onpromotion'].fillna(False, inplace=True)"
   ]
  },
  {
   "cell_type": "code",
   "execution_count": 8,
   "metadata": {
    "collapsed": true
   },
   "outputs": [],
   "source": [
    "items.set_index('item_nbr', inplace=True)\n",
    "stores.set_index('store_nbr', inplace=True)"
   ]
  },
  {
   "cell_type": "markdown",
   "metadata": {},
   "source": [
    "#### Save and load cleaned data"
   ]
  },
  {
   "cell_type": "code",
   "execution_count": 9,
   "metadata": {
    "collapsed": true
   },
   "outputs": [],
   "source": [
    "train.to_pickle(simple + 'train_processed.pkl')\n",
    "test.to_pickle(simple + 'test_processed.pkl')\n",
    "items.to_pickle(simple + 'items_processed.pkl')\n",
    "stores.to_pickle(simple + 'stores_processed.pkl')"
   ]
  },
  {
   "cell_type": "markdown",
   "metadata": {},
   "source": [
    "lastdate = test.iloc[test.shape[0]-1].date"
   ]
  },
  {
   "cell_type": "markdown",
   "metadata": {},
   "source": [
    "## Build DFs"
   ]
  },
  {
   "cell_type": "code",
   "execution_count": 4,
   "metadata": {
    "collapsed": true
   },
   "outputs": [],
   "source": [
    "train = pd.read_pickle(simple + 'train_processed.pkl')\n",
    "test = pd.read_pickle(simple + 'test_processed.pkl')\n",
    "items = pd.read_pickle(simple + 'items_processed.pkl')\n",
    "stores = pd.read_pickle(simple + 'stores_processed.pkl')"
   ]
  },
  {
   "cell_type": "markdown",
   "metadata": {},
   "source": [
    "##### Sales DF"
   ]
  },
  {
   "cell_type": "code",
   "execution_count": 5,
   "metadata": {
    "collapsed": true
   },
   "outputs": [],
   "source": [
    "sales_df = train.set_index(\n",
    "    ['store_nbr', 'item_nbr', 'date'])[['unit_sales']].unstack(level=-1).fillna(0)\n",
    "sales_df.columns = sales_df.columns.get_level_values(1)"
   ]
  },
  {
   "cell_type": "markdown",
   "metadata": {},
   "source": [
    "##### Items and Stores"
   ]
  },
  {
   "cell_type": "code",
   "execution_count": 6,
   "metadata": {
    "collapsed": true
   },
   "outputs": [],
   "source": [
    "#now items and stores are dataframes of sales_df length\n",
    "items_df = items.reindex(sales_df.index.get_level_values(1))\n",
    "stores_df = stores.reindex(sales_df.index.get_level_values(0))"
   ]
  },
  {
   "cell_type": "markdown",
   "metadata": {},
   "source": [
    "##### Promo dataframe prep"
   ]
  },
  {
   "cell_type": "code",
   "execution_count": 7,
   "metadata": {
    "collapsed": true
   },
   "outputs": [],
   "source": [
    "promo_train_df = train.set_index(\n",
    "    ['store_nbr', 'item_nbr', 'date'])[['onpromotion']].unstack(level=-1).fillna(False)\n",
    "promo_train_df.columns = promo_train_df.columns.get_level_values(1)\n",
    "promo_test_df = test.set_index(\n",
    "    ['store_nbr', 'item_nbr', 'date'])[['onpromotion']].unstack(level=-1).fillna(False)\n",
    "promo_test_df.columns = promo_test_df.columns.get_level_values(1)\n",
    "tr_idx = promo_train_df.index\n",
    "promo_test_df = promo_test_df.reindex(tr_idx).fillna(False)\n",
    "promo_df = pd.concat([promo_train_df, promo_test_df], axis=1)"
   ]
  },
  {
   "cell_type": "markdown",
   "metadata": {},
   "source": [
    "##### Sales item and promo item"
   ]
  },
  {
   "cell_type": "code",
   "execution_count": 8,
   "metadata": {
    "collapsed": true
   },
   "outputs": [],
   "source": [
    "sales_item_df = sales_df.groupby('item_nbr').sum() #sum of unit sales for each item across all stores\n",
    "promo_item_df = promo_df.groupby('item_nbr').sum() #sum of promotions"
   ]
  },
  {
   "cell_type": "markdown",
   "metadata": {},
   "source": [
    "##### Sales store class and promo store class"
   ]
  },
  {
   "cell_type": "code",
   "execution_count": 6,
   "metadata": {
    "collapsed": true
   },
   "outputs": [],
   "source": [
    "sales_store_class_df = sales_df.reset_index()\n",
    "sales_store_class_df['class'] = items_df['class'].values\n",
    "sales_store_class_index = sales_store_class_df[['class', 'store_nbr']]\n",
    "#train.columns to ensure only date columns returned\n",
    "sales_store_class_df = sales_store_class_df.groupby(['class', 'store_nbr'])[sales_df.columns].sum()"
   ]
  },
  {
   "cell_type": "code",
   "execution_count": 10,
   "metadata": {
    "collapsed": true
   },
   "outputs": [],
   "source": [
    "#repeat for promos\n",
    "promo_store_class_df = promo_df.reset_index()\n",
    "promo_store_class_df['class'] = items_df['class'].values\n",
    "promo_store_class_index = promo_store_class_df[['class', 'store_nbr']] #for ...?\n",
    "promo_store_class_df = promo_store_class_df.groupby(['class', 'store_nbr'])[promo_df.columns].sum()"
   ]
  },
  {
   "cell_type": "markdown",
   "metadata": {},
   "source": [
    "#### Save dfs"
   ]
  },
  {
   "cell_type": "code",
   "execution_count": 7,
   "metadata": {
    "collapsed": true
   },
   "outputs": [],
   "source": [
    "sales_df.to_pickle(simple + 'sales_df.pkl')\n",
    "promo_df.to_pickle(simple + 'promo_df.pkl')\n",
    "items_df.to_pickle(simple + 'items_df.pkl')\n",
    "stores_df.to_pickle(simple + 'stores_df.pkl')\n",
    "sales_store_class_index.to_pickle(simple + 'sales_store_class_index.pkl')\n",
    "sales_item_df.to_pickle(simple + 'sales_item_df.pkl')\n",
    "promo_item_df.to_pickle(simple + 'promo_item_df.pkl')\n",
    "sales_store_class_df.to_pickle(simple + 'sales_store_class_df.pkl')\n",
    "promo_store_class_df.to_pickle(simple + 'promo_store_class_df.pkl')"
   ]
  },
  {
   "cell_type": "markdown",
   "metadata": {},
   "source": [
    "## Build features"
   ]
  },
  {
   "cell_type": "markdown",
   "metadata": {},
   "source": [
    "#### Load dfs"
   ]
  },
  {
   "cell_type": "code",
   "execution_count": 4,
   "metadata": {},
   "outputs": [],
   "source": [
    "train = pd.read_pickle(simple + 'train_processed.pkl')\n",
    "test = pd.read_pickle(simple + 'test_processed.pkl')\n",
    "items = pd.read_pickle(simple + 'items_processed.pkl')\n",
    "stores = pd.read_pickle(simple + 'stores_processed.pkl')"
   ]
  },
  {
   "cell_type": "code",
   "execution_count": 5,
   "metadata": {},
   "outputs": [],
   "source": [
    "#train = pd.read_pickle(simple + 'train_processed.pkl')\n",
    "sales_df = pd.read_pickle(simple + 'sales_df.pkl')\n",
    "promo_df = pd.read_pickle(simple + 'promo_df.pkl')\n",
    "items_df = pd.read_pickle(simple + 'items_df.pkl')\n",
    "stores_df = pd.read_pickle(simple + 'stores_df.pkl')\n",
    "sales_store_class_index = pd.read_pickle(simple + 'sales_store_class_index.pkl')\n",
    "sales_item_df = pd.read_pickle(simple + 'sales_item_df.pkl')\n",
    "promo_item_df = pd.read_pickle(simple + 'promo_item_df.pkl')\n",
    "sales_store_class_df = pd.read_pickle(simple + 'sales_store_class_df.pkl')\n",
    "promo_store_class_df = pd.read_pickle(simple + 'promo_store_class_df.pkl')"
   ]
  },
  {
   "cell_type": "code",
   "execution_count": 6,
   "metadata": {},
   "outputs": [
    {
     "data": {
      "text/plain": [
       "16"
      ]
     },
     "execution_count": 6,
     "metadata": {},
     "output_type": "execute_result"
    }
   ],
   "source": [
    "prediction_days = (test.iloc[-1].date - test.iloc[0].date).days + 1; prediction_days"
   ]
  },
  {
   "cell_type": "code",
   "execution_count": 7,
   "metadata": {},
   "outputs": [],
   "source": [
    "m_items_df = items_df.reset_index()\n",
    "m_stores_df= stores_df.reset_index()"
   ]
  },
  {
   "cell_type": "code",
   "execution_count": 8,
   "metadata": {},
   "outputs": [],
   "source": [
    "#save mem\n",
    "del train"
   ]
  },
  {
   "cell_type": "code",
   "execution_count": 9,
   "metadata": {},
   "outputs": [],
   "source": [
    "def get_df_timespan(df, dt, minus, periods, freq='D'):\n",
    "    r = pd.date_range(dt - timedelta(days=minus), periods=periods, freq=freq)\n",
    "    return df[r]"
   ]
  },
  {
   "cell_type": "code",
   "execution_count": 15,
   "metadata": {},
   "outputs": [],
   "source": [
    "def prepare_dataset(df, promo_df, start_date, is_train=True, name_prefix=None, prediction_days=prediction_days):\n",
    "    X=pd.DataFrame()\n",
    "    \n",
    "    for i in [1, 7, 14, 40]:\n",
    "        X[f'promos_{i}_before'] = get_df_timespan(promo_df, start_date, i, i).sum(axis=1).values\n",
    "    \n",
    "    for i in [3, 7, 14]:\n",
    "        X[f'promo_{i}_after'] = get_df_timespan(promo_df, start_date + timedelta(prediction_days), \n",
    "                                                prediction_days-1, i).sum(axis=1).values\n",
    "    \n",
    "    for i in [3, 7, 14, 30, 40]:\n",
    "        tmp = get_df_timespan(df, start_date, i, i)\n",
    "        X[f'mean_{i}_before'] = tmp.mean(axis=1).values\n",
    "        X[f'mean_{i}_diff_before'] = tmp.diff(axis=1).mean(axis=1).values\n",
    "        X[f'min_{i}_before'] = tmp.min(axis=1).values\n",
    "        X[f'max_{i}_before'] = tmp.max(axis=1).values\n",
    "        X[f'std_{i}_before'] = tmp.std(axis=1).values\n",
    "        X[f'sum_{i}_before'] = tmp.sum(axis=1).values\n",
    "        \n",
    "    for i in [3, 7, 14, 30, 40]:\n",
    "        tmp = get_df_timespan(df, start_date, i, i)        \n",
    "        X[f'has_sales_days_in_last_{i}'] = (tmp > 0).sum(axis=1).values\n",
    "        X[f'last_has_sales_day_in_last_{i}'] = i - ((tmp > 0) * np.arange(i)).max(axis=1).values\n",
    "        X[f'first_has_sales_day_in_last_{i}'] = ((tmp > 0) * np.arange(i, 0, -1)).max(axis=1).values\n",
    "        \n",
    "        tmp = get_df_timespan(promo_df, start_date, i, i)\n",
    "        X[f'has_promo_days_in_last_{i}'] = (tmp > 0).sum(axis=1).values\n",
    "        X[f'last_has_promo_day_in_last_{i}'] = i - ((tmp > 0) * np.arange(i)).max(axis=1).values\n",
    "        X[f'first_has_promo_day_in_last_{i}'] = ((tmp > 0) * np.arange(i, 0, -1)).max(axis=1).values\n",
    "\n",
    "    for i in range(1, 16):\n",
    "        X['sales_{i}_days_ago'] = get_df_timespan(df, start_date, i, 1).values.ravel()\n",
    "    \n",
    "    #Day of week\n",
    "    for i in range(7):\n",
    "        for j in [14, 7, 3, 1]:\n",
    "            X[f'mean_{j}_dow_{i}_bfore'] =\\\n",
    "            get_df_timespan(df, start_date, j*7-i, j, freq='7D').mean(axis=1).values\n",
    "    \n",
    "    #date categories. Put all categoricals below.\n",
    "    X['day'] = start_date.day\n",
    "    X['dow'] = start_date.weekday() \n",
    "    X['month'] = start_date.month\n",
    "    \n",
    "    for i in range(-16,16):\n",
    "        X[f'onpromotion_at_{i}_days'] = \\\n",
    "        promo_df[start_date + timedelta(days=i)].values.astype(np.uint8)\n",
    "    \n",
    "    if is_train:\n",
    "        prediction_range = pd.date_range(start_date, periods=prediction_days)\n",
    "        y = df[prediction_range].values\n",
    "        return X, y\n",
    "\n",
    "    if name_prefix is not None:\n",
    "        X.columns = [f'{name_prefix}_{c}' for c in X.columns]\n",
    "    return X"
   ]
  },
  {
   "cell_type": "code",
   "execution_count": 16,
   "metadata": {},
   "outputs": [],
   "source": [
    "start_training_from = date(2017, 4, 29)\n",
    "valid_date = date(2017, 7, 16)\n",
    "training_weeks = 10 #ends June 28\n",
    "dates = [start_training_from + timedelta(days=6*d) for d in range(training_weeks+1)]\n",
    "dates.extend((date(2017, 7, 31), valid_date)) #last date is validation set\n",
    "X_l, y_l = [], []\n",
    "\n",
    "for start_date in dates:\n",
    "    X_tmp, y_tmp = prepare_dataset(sales_df, promo_df, start_date)\n",
    "\n",
    "    X_tmp2 = prepare_dataset(sales_item_df, promo_item_df, start_date, \n",
    "                             is_train=False, name_prefix='item')\n",
    "    X_tmp2.index = sales_item_df.index #changes back to items\n",
    "    X_tmp2 = X_tmp2.reindex(sales_df.index.get_level_values(1)).reset_index(drop=True)\n",
    "    #now len, index same as X_tmp.\n",
    "    \n",
    "    X_tmp3 = prepare_dataset(sales_store_class_df, promo_store_class_df, start_date, \n",
    "                             is_train=False, name_prefix='store_class')\n",
    "    X_tmp3.index = sales_store_class_df.index\n",
    "    X_tmp3 = X_tmp3.reindex(sales_store_class_index).reset_index(drop=True)\n",
    "    \n",
    "    X_tmp = pd.concat([X_tmp, X_tmp2, X_tmp3, m_items_df, m_stores_df], axis=1)\n",
    "    X_tmp['date_index'] = dates.index(start_date)\n",
    "    \n",
    "    X_l.append(X_tmp)\n",
    "    y_l.append(y_tmp)\n",
    "\n",
    "X_train = pd.concat(X_l, axis=0)\n",
    "y_train = np.concatenate(y_l, axis=0)\n",
    "del X_l; del y_l; del X_tmp; del X_tmp2; del X_tmp3\n",
    "\n",
    "train_size = int((len(X_train)*(len(dates)-1))/len(dates))\n",
    "val_idx = list(range(train_size, len(X_train)))"
   ]
  },
  {
   "cell_type": "code",
   "execution_count": 20,
   "metadata": {},
   "outputs": [],
   "source": [
    "X_train.reset_index(inplace=True, drop=True)"
   ]
  },
  {
   "cell_type": "code",
   "execution_count": 23,
   "metadata": {},
   "outputs": [],
   "source": [
    "X_train.to_feather(simple + 'X_train.ftr')\n",
    "pickle.dump(y_train, open(simple + 'y_train.pkl', 'wb')) \n",
    "pickle.dump(val_idx, open(simple + 'val_idx.pkl', 'wb')) "
   ]
  },
  {
   "cell_type": "markdown",
   "metadata": {},
   "source": [
    "# Restart"
   ]
  },
  {
   "cell_type": "markdown",
   "metadata": {},
   "source": [
    "Start here after kernel dies"
   ]
  },
  {
   "cell_type": "code",
   "execution_count": 1,
   "metadata": {},
   "outputs": [
    {
     "name": "stdout",
     "output_type": "stream",
     "text": [
      "env: CUDA_DEVICE_ORDER=PCI_BUS_ID\n",
      "env: CUDA_VISIBLE_DEVICES=0\n"
     ]
    }
   ],
   "source": [
    "gpu=0\n",
    "%env CUDA_DEVICE_ORDER=PCI_BUS_ID\n",
    "%env CUDA_VISIBLE_DEVICES=$gpu\n",
    "%matplotlib inline \n",
    "# %reload_ext autoreload\n",
    "# %autoreload 2\n",
    "import os,sys\n",
    "sys.path.insert(1, '/home/kevin/fastai')\n",
    "from fastai.structured import *\n",
    "from fastai.column_data import *\n",
    "from IPython.display import HTML\n",
    "from datetime import date, timedelta"
   ]
  },
  {
   "cell_type": "markdown",
   "metadata": {},
   "source": [
    "## Functions"
   ]
  },
  {
   "cell_type": "code",
   "execution_count": 2,
   "metadata": {},
   "outputs": [],
   "source": [
    "#paths\n",
    "data_path = '/home/kevin/nbs/kaggle/GrocerySales/data/'\n",
    "slowdata = data_path + 'slowdisk/'; slowdata\n",
    "simple = slowdata + 'replicate_winner/'\n",
    "#leaves duplicate field names on left and appends with _y on right\n",
    "def join_df(left, right, left_on, right_on=None):\n",
    "    if right_on is None: right_on=left_on\n",
    "    return left.merge(right, how='left', left_on=left_on, right_on=right_on, suffixes=(\"\", \"_y\"))"
   ]
  },
  {
   "cell_type": "code",
   "execution_count": 3,
   "metadata": {},
   "outputs": [],
   "source": [
    "#normalize and denormalize targets\n",
    "def normy(y):\n",
    "    meany=np.mean(y)\n",
    "    stdevy = np.std(y)\n",
    "    ynorm = (y-meany)/stdevy\n",
    "    return meany, stdevy, ynorm\n",
    "\n",
    "def denorm(y, meany, stdevy, r=3):\n",
    "    return np.round(y*stdevy+meany, r)\n",
    "\n",
    "#\n",
    "def trainable_params(m):\n",
    "    model_parameters = filter(lambda p: p.requires_grad, m.model.parameters())\n",
    "    return sum([np.prod(p.size()) for p in model_parameters])\n",
    "\n",
    "def mae(inp, targ):\n",
    "    inp = inp.view(inp.numel())\n",
    "    targ = targ.view(targ.numel())\n",
    "    l = len(inp)\n",
    "    return torch.sum(torch.abs(inp-targ))/l\n",
    "\n",
    "#custom function I wrote to add a null check\n",
    "def apply_cats(df, trn, null_check=False):\n",
    "    for n,c in df.items():\n",
    "        if (n in trn.columns) and (trn[n].dtype.name=='category'):\n",
    "            df[n] = pd.Categorical(c, categories=trn[n].cat.categories, ordered=True)\n",
    "            if null_check and df[n].isnull().values.any():\n",
    "                raise ValueError(f'Target dataframe has null values for column {n}. This can occur if the target dataframe has category values not present in original.')"
   ]
  },
  {
   "cell_type": "code",
   "execution_count": 24,
   "metadata": {},
   "outputs": [],
   "source": [
    "X_train = pd.read_feather(simple + 'X_train.ftr')\n",
    "y_train = pickle.load(open(simple + 'y_train.pkl', 'rb'))\n",
    "val_idx = pickle.load(open(simple + 'val_idx.pkl', 'rb'))"
   ]
  },
  {
   "cell_type": "code",
   "execution_count": 27,
   "metadata": {},
   "outputs": [],
   "source": [
    "#cat and conv vars\n",
    "first_cat = X_train.columns.values.tolist().index('day')\n",
    "cat_vars = X_train.columns[first_cat:].values.tolist()\n",
    "for v in cat_vars: \n",
    "    X_train[v] = X_train[v].astype('category').cat.as_ordered()\n",
    "contin_vars = X_train.columns[:first_cat].values.tolist(); contin_vars\n",
    "for v in contin_vars:\n",
    "    X_train[v] = X_train[v].astype('float32')\n",
    "cat_sz = [(c, len(X_train[c].cat.categories)+1) for c in cat_vars]\n",
    "emb_szs = [(c, min(50, (c+1)//2)) for _,c in cat_sz]\n",
    "n_cont = len(contin_vars)\n",
    "#normalize target\n",
    "meany, stdevy, yl = normy(y_train)\n",
    "max_log_y = np.max(yl)\n",
    "min_log_y = np.min(yl)\n",
    "y_range = (min_log_y*1.2, max_log_y*1.2)"
   ]
  },
  {
   "cell_type": "code",
   "execution_count": 29,
   "metadata": {},
   "outputs": [],
   "source": [
    "X_train['ignore'] = 0 #dummy variable because prod_df requires response variable."
   ]
  },
  {
   "cell_type": "code",
   "execution_count": 30,
   "metadata": {},
   "outputs": [],
   "source": [
    "#gen model dataframes\n",
    "df, _, nas, mapper = proc_df(X_train, 'ignore', do_scale=True)"
   ]
  },
  {
   "cell_type": "code",
   "execution_count": 33,
   "metadata": {},
   "outputs": [],
   "source": [
    "del X_train; del y_train"
   ]
  },
  {
   "cell_type": "code",
   "execution_count": 29,
   "metadata": {},
   "outputs": [],
   "source": [
    "# df.reset_index(inplace=True)"
   ]
  },
  {
   "cell_type": "code",
   "execution_count": 31,
   "metadata": {
    "scrolled": true
   },
   "outputs": [],
   "source": [
    "# df.to_feather(simple + 'df.ftr')"
   ]
  },
  {
   "cell_type": "code",
   "execution_count": 32,
   "metadata": {},
   "outputs": [],
   "source": [
    "df = pd.read_feather(simple + 'df.ftr')"
   ]
  },
  {
   "cell_type": "code",
   "execution_count": 9,
   "metadata": {},
   "outputs": [],
   "source": [
    "bs = int(1e3)\n",
    "md = ColumnarModelData.from_data_frame(path=simple, val_idxs=val_idx, df=df, y=yl,\n",
    "                                      cat_flds=cat_vars, bs=bs)"
   ]
  },
  {
   "cell_type": "markdown",
   "metadata": {
    "collapsed": true
   },
   "source": [
    "for i in range(2):\n",
    "    m = md.get_learner(emb_szs=emb_szs, n_cont=n_cont, emb_drop=0.1, \n",
    "                   out_sz=16, szs=[512,256,128,64], drops=[.1,.1,.1,.1], y_range=y_range)\n",
    "    m.crit = mae\n",
    "    print(f'==============={i}=====================')\n",
    "    m.warm_up(1e-3)\n",
    "    m.fit(2e-4,4)\n",
    "    m.fit(2e-5,2)"
   ]
  },
  {
   "cell_type": "code",
   "execution_count": 28,
   "metadata": {},
   "outputs": [],
   "source": [
    "m = md.get_learner(emb_szs=emb_szs, n_cont=n_cont, emb_drop=0.5, \n",
    "                   out_sz=16, szs=[512,256,128,64], drops=[.5,.5,.5,.5], y_range=y_range)"
   ]
  },
  {
   "cell_type": "code",
   "execution_count": 29,
   "metadata": {},
   "outputs": [
    {
     "data": {
      "application/vnd.jupyter.widget-view+json": {
       "model_id": "635881ca5c63423d9f0312c9631da162",
       "version_major": 2,
       "version_minor": 0
      },
      "text/html": [
       "<p>Failed to display Jupyter Widget of type <code>HBox</code>.</p>\n",
       "<p>\n",
       "  If you're reading this message in the Jupyter Notebook or JupyterLab Notebook, it may mean\n",
       "  that the widgets JavaScript is still loading. If this message persists, it\n",
       "  likely means that the widgets JavaScript library is either not installed or\n",
       "  not enabled. See the <a href=\"https://ipywidgets.readthedocs.io/en/stable/user_install.html\">Jupyter\n",
       "  Widgets Documentation</a> for setup instructions.\n",
       "</p>\n",
       "<p>\n",
       "  If you're reading this message in another frontend (for example, a static\n",
       "  rendering on GitHub or <a href=\"https://nbviewer.jupyter.org/\">NBViewer</a>),\n",
       "  it may mean that your frontend doesn't currently support widgets.\n",
       "</p>\n"
      ],
      "text/plain": [
       "HBox(children=(IntProgress(value=0, description='Epoch', max=8), HTML(value='')))"
      ]
     },
     "metadata": {},
     "output_type": "display_data"
    },
    {
     "name": "stdout",
     "output_type": "stream",
     "text": [
      "epoch      trn_loss   val_loss                                 \n",
      "    0      0.572404   0.374506  \n",
      "    1      0.518312   0.382381                                 \n",
      "    2      0.429057   0.40045                                  \n",
      "    3      0.389929   0.389182                                 \n",
      "    4      0.372068   0.386812                                 \n",
      "    5      0.365212   0.382646                                 \n",
      "    6      0.361541   0.385794                                 \n",
      "    7      0.35853    0.386254                                 \n",
      "\n"
     ]
    },
    {
     "data": {
      "text/plain": [
       "[0.38625354]"
      ]
     },
     "execution_count": 29,
     "metadata": {},
     "output_type": "execute_result"
    }
   ],
   "source": [
    "m.fit(1e-3,2, cycle_len=2, cycle_mult=3)"
   ]
  },
  {
   "cell_type": "code",
   "execution_count": 22,
   "metadata": {},
   "outputs": [
    {
     "data": {
      "image/png": "[encoded data removed]",
      "text/plain": [
       "<matplotlib.figure.Figure at 0x7fefe7bbd710>"
      ]
     },
     "metadata": {},
     "output_type": "display_data"
    }
   ],
   "source": [
    "m.sched.plot_lr()"
   ]
  },
  {
   "cell_type": "code",
   "execution_count": 30,
   "metadata": {},
   "outputs": [
    {
     "data": {
      "image/png": "[encoded data removed]",
      "text/plain": [
       "<matplotlib.figure.Figure at 0x7fef5a038470>"
      ]
     },
     "metadata": {},
     "output_type": "display_data"
    }
   ],
   "source": [
    "m.sched.plot_loss()"
   ]
  },
  {
   "cell_type": "code",
   "execution_count": 25,
   "metadata": {
    "scrolled": true
   },
   "outputs": [
    {
     "data": {
      "image/png": "[encoded data removed]",
      "text/plain": [
       "<matplotlib.figure.Figure at 0x7fee597facc0>"
      ]
     },
     "metadata": {},
     "output_type": "display_data"
    }
   ],
   "source": [
    "m.sched.plot_loss()"
   ]
  },
  {
   "cell_type": "markdown",
   "metadata": {},
   "source": [
    "Below is m.fit(2e-4,2, cycle_len=2, cycle_mult=2)"
   ]
  },
  {
   "cell_type": "code",
   "execution_count": 113,
   "metadata": {},
   "outputs": [
    {
     "data": {
      "image/png": "[encoded data removed]",
      "text/plain": [
       "<matplotlib.figure.Figure at 0x7fd983ecfa58>"
      ]
     },
     "metadata": {},
     "output_type": "display_data"
    }
   ],
   "source": [
    "m.sched.plot_lr()"
   ]
  },
  {
   "cell_type": "markdown",
   "metadata": {},
   "source": [
    "##### m.warm_up??"
   ]
  },
  {
   "cell_type": "code",
   "execution_count": 93,
   "metadata": {},
   "outputs": [
    {
     "data": {
      "application/vnd.jupyter.widget-view+json": {
       "model_id": "fd67d33006834cbfbf27cbd760c97cf6",
       "version_major": 2,
       "version_minor": 0
      },
      "text/html": [
       "<p>Failed to display Jupyter Widget of type <code>HBox</code>.</p>\n",
       "<p>\n",
       "  If you're reading this message in the Jupyter Notebook or JupyterLab Notebook, it may mean\n",
       "  that the widgets JavaScript is still loading. If this message persists, it\n",
       "  likely means that the widgets JavaScript library is either not installed or\n",
       "  not enabled. See the <a href=\"https://ipywidgets.readthedocs.io/en/stable/user_install.html\">Jupyter\n",
       "  Widgets Documentation</a> for setup instructions.\n",
       "</p>\n",
       "<p>\n",
       "  If you're reading this message in another frontend (for example, a static\n",
       "  rendering on GitHub or <a href=\"https://nbviewer.jupyter.org/\">NBViewer</a>),\n",
       "  it may mean that your frontend doesn't currently support widgets.\n",
       "</p>\n"
      ],
      "text/plain": [
       "HBox(children=(IntProgress(value=0, description='Epoch', max=1), HTML(value='')))"
      ]
     },
     "metadata": {},
     "output_type": "display_data"
    },
    {
     "name": "stdout",
     "output_type": "stream",
     "text": [
      "epoch      trn_loss   val_loss                                \n",
      "    0      1.258426   2.262941  \n",
      "\n"
     ]
    }
   ],
   "source": [
    "m.crit = mae\n",
    "m.lr_find()"
   ]
  },
  {
   "cell_type": "code",
   "execution_count": 94,
   "metadata": {},
   "outputs": [
    {
     "data": {
      "image/png": "[encoded data removed]",
      "text/plain": [
       "<matplotlib.figure.Figure at 0x7fd982c55630>"
      ]
     },
     "metadata": {},
     "output_type": "display_data"
    }
   ],
   "source": [
    "m.sched.plot(10)"
   ]
  },
  {
   "cell_type": "markdown",
   "metadata": {},
   "source": [
    "###### Notes\n",
    "+ Increasing number of [dates] improved.\n",
    "+ Increasing the range of mean improved.\n",
    "+ Increasing bs from 1000 to 10,000 decreased\n",
    "+ Decreasing bs from 1000 to 100 decreased\n",
    "+ Increasing szs to 20,10 did nothing.\n",
    "+ Increasing szs to 10,5,5 did nothing.\n",
    "+ Adding promos_i_before might help.\n",
    "+ Adding promos_i_ after might help.\n",
    "+ Adding more training dates with dropout seems to prevent the overfitting.\n",
    "+ Batch size of 2e3 seems to work the best."
   ]
  },
  {
   "cell_type": "markdown",
   "metadata": {
    "collapsed": true
   },
   "source": [
    "###### Large dataset and model\n",
    "+ Trying .25 dropout to reduce overfitting. Still overfits."
   ]
  },
  {
   "cell_type": "markdown",
   "metadata": {
    "collapsed": true
   },
   "source": [
    "## Random Forests"
   ]
  },
  {
   "cell_type": "code",
   "execution_count": 36,
   "metadata": {},
   "outputs": [],
   "source": [
    "from sklearn.ensemble import RandomForestRegressor, RandomForestClassifier"
   ]
  },
  {
   "cell_type": "code",
   "execution_count": 34,
   "metadata": {},
   "outputs": [],
   "source": [
    "((val_df, trn_df), (val_y, trn_y)) = split_by_idx(val_idx, df, yl)"
   ]
  },
  {
   "cell_type": "code",
   "execution_count": 49,
   "metadata": {},
   "outputs": [],
   "source": [
    "m_rf = RandomForestRegressor(n_estimators = 20, min_samples_leaf=1000, n_jobs=-1)"
   ]
  },
  {
   "cell_type": "code",
   "execution_count": 50,
   "metadata": {},
   "outputs": [],
   "source": [
    "#speeds up since scikt-learn code calls this function.\n",
    "x = np.array(trn_df, dtype=np.float32)"
   ]
  },
  {
   "cell_type": "code",
   "execution_count": 51,
   "metadata": {},
   "outputs": [
    {
     "name": "stdout",
     "output_type": "stream",
     "text": [
      "CPU times: user 3h 29min 41s, sys: 1.13 s, total: 3h 29min 43s\n",
      "Wall time: 22min 17s\n"
     ]
    },
    {
     "data": {
      "text/plain": [
       "RandomForestRegressor(bootstrap=True, criterion='mse', max_depth=None,\n",
       "           max_features='auto', max_leaf_nodes=None,\n",
       "           min_impurity_decrease=0.0, min_impurity_split=None,\n",
       "           min_samples_leaf=1000, min_samples_split=2,\n",
       "           min_weight_fraction_leaf=0.0, n_estimators=20, n_jobs=-1,\n",
       "           oob_score=False, random_state=None, verbose=0, warm_start=False)"
      ]
     },
     "execution_count": 51,
     "metadata": {},
     "output_type": "execute_result"
    }
   ],
   "source": [
    "%time m_rf.fit(x, trn_y)"
   ]
  },
  {
   "cell_type": "code",
   "execution_count": 52,
   "metadata": {},
   "outputs": [
    {
     "data": {
      "text/plain": [
       "0.6575779499725225"
      ]
     },
     "execution_count": 52,
     "metadata": {},
     "output_type": "execute_result"
    }
   ],
   "source": [
    "m_rf.score(trn_df, trn_y)"
   ]
  },
  {
   "cell_type": "code",
   "execution_count": 70,
   "metadata": {},
   "outputs": [
    {
     "data": {
      "text/plain": [
       "0.65008719278136762"
      ]
     },
     "execution_count": 70,
     "metadata": {},
     "output_type": "execute_result"
    }
   ],
   "source": [
    "m_rf.score(val_df, val_y)"
   ]
  },
  {
   "cell_type": "code",
   "execution_count": 73,
   "metadata": {},
   "outputs": [],
   "source": [
    "feat_imp2 = pd.DataFrame({'score': m_rf.feature_importances_, 'feature': df.columns })\n",
    "feat_imp2.sort_values('score', axis=0, ascending=False, inplace=True)\n",
    "top_features = feat_imp2[feat_imp2['score'] >= .0001]; \n",
    "top_features.reset_index(inplace=True, drop=True)"
   ]
  },
  {
   "cell_type": "code",
   "execution_count": 74,
   "metadata": {},
   "outputs": [
    {
     "data": {
      "text/html": [
       "<div>\n",
       "<style scoped>\n",
       "    .dataframe tbody tr th:only-of-type {\n",
       "        vertical-align: middle;\n",
       "    }\n",
       "\n",
       "    .dataframe tbody tr th {\n",
       "        vertical-align: top;\n",
       "    }\n",
       "\n",
       "    .dataframe thead th {\n",
       "        text-align: right;\n",
       "    }\n",
       "</style>\n",
       "<table border=\"1\" class=\"dataframe\">\n",
       "  <thead>\n",
       "    <tr style=\"text-align: right;\">\n",
       "      <th></th>\n",
       "      <th>feature</th>\n",
       "      <th>score</th>\n",
       "    </tr>\n",
       "  </thead>\n",
       "  <tbody>\n",
       "    <tr>\n",
       "      <th>0</th>\n",
       "      <td>sum_14_before</td>\n",
       "      <td>0.454851</td>\n",
       "    </tr>\n",
       "    <tr>\n",
       "      <th>1</th>\n",
       "      <td>mean_14_before</td>\n",
       "      <td>0.314681</td>\n",
       "    </tr>\n",
       "    <tr>\n",
       "      <th>2</th>\n",
       "      <td>mean_30_before</td>\n",
       "      <td>0.061810</td>\n",
       "    </tr>\n",
       "    <tr>\n",
       "      <th>3</th>\n",
       "      <td>sum_30_before</td>\n",
       "      <td>0.054516</td>\n",
       "    </tr>\n",
       "    <tr>\n",
       "      <th>4</th>\n",
       "      <td>mean_40_before</td>\n",
       "      <td>0.029909</td>\n",
       "    </tr>\n",
       "    <tr>\n",
       "      <th>5</th>\n",
       "      <td>sum_40_before</td>\n",
       "      <td>0.028628</td>\n",
       "    </tr>\n",
       "    <tr>\n",
       "      <th>6</th>\n",
       "      <td>promo_14_after</td>\n",
       "      <td>0.008888</td>\n",
       "    </tr>\n",
       "    <tr>\n",
       "      <th>7</th>\n",
       "      <td>store_class_dow</td>\n",
       "      <td>0.005143</td>\n",
       "    </tr>\n",
       "    <tr>\n",
       "      <th>8</th>\n",
       "      <td>dow</td>\n",
       "      <td>0.005110</td>\n",
       "    </tr>\n",
       "    <tr>\n",
       "      <th>9</th>\n",
       "      <td>item_dow</td>\n",
       "      <td>0.004356</td>\n",
       "    </tr>\n",
       "    <tr>\n",
       "      <th>10</th>\n",
       "      <td>sum_7_before</td>\n",
       "      <td>0.003793</td>\n",
       "    </tr>\n",
       "    <tr>\n",
       "      <th>11</th>\n",
       "      <td>mean_7_before</td>\n",
       "      <td>0.003151</td>\n",
       "    </tr>\n",
       "    <tr>\n",
       "      <th>12</th>\n",
       "      <td>mean_14_dow_0_bfore</td>\n",
       "      <td>0.002191</td>\n",
       "    </tr>\n",
       "    <tr>\n",
       "      <th>13</th>\n",
       "      <td>mean_14_dow_1_bfore</td>\n",
       "      <td>0.002027</td>\n",
       "    </tr>\n",
       "    <tr>\n",
       "      <th>14</th>\n",
       "      <td>mean_14_dow_6_bfore</td>\n",
       "      <td>0.001125</td>\n",
       "    </tr>\n",
       "    <tr>\n",
       "      <th>15</th>\n",
       "      <td>first_has_sales_day_in_last_30</td>\n",
       "      <td>0.000973</td>\n",
       "    </tr>\n",
       "    <tr>\n",
       "      <th>16</th>\n",
       "      <td>day</td>\n",
       "      <td>0.000899</td>\n",
       "    </tr>\n",
       "    <tr>\n",
       "      <th>17</th>\n",
       "      <td>item_day</td>\n",
       "      <td>0.000871</td>\n",
       "    </tr>\n",
       "    <tr>\n",
       "      <th>18</th>\n",
       "      <td>mean_14_dow_4_bfore</td>\n",
       "      <td>0.000864</td>\n",
       "    </tr>\n",
       "    <tr>\n",
       "      <th>19</th>\n",
       "      <td>store_class_day</td>\n",
       "      <td>0.000776</td>\n",
       "    </tr>\n",
       "    <tr>\n",
       "      <th>20</th>\n",
       "      <td>mean_3_before</td>\n",
       "      <td>0.000719</td>\n",
       "    </tr>\n",
       "    <tr>\n",
       "      <th>21</th>\n",
       "      <td>max_3_before</td>\n",
       "      <td>0.000716</td>\n",
       "    </tr>\n",
       "    <tr>\n",
       "      <th>22</th>\n",
       "      <td>promos_14_before</td>\n",
       "      <td>0.000688</td>\n",
       "    </tr>\n",
       "    <tr>\n",
       "      <th>23</th>\n",
       "      <td>has_promo_days_in_last_14</td>\n",
       "      <td>0.000669</td>\n",
       "    </tr>\n",
       "    <tr>\n",
       "      <th>24</th>\n",
       "      <td>mean_14_dow_5_bfore</td>\n",
       "      <td>0.000661</td>\n",
       "    </tr>\n",
       "    <tr>\n",
       "      <th>25</th>\n",
       "      <td>sum_3_before</td>\n",
       "      <td>0.000643</td>\n",
       "    </tr>\n",
       "    <tr>\n",
       "      <th>26</th>\n",
       "      <td>item_mean_14_diff_before</td>\n",
       "      <td>0.000623</td>\n",
       "    </tr>\n",
       "    <tr>\n",
       "      <th>27</th>\n",
       "      <td>item_mean_1_dow_6_bfore</td>\n",
       "      <td>0.000588</td>\n",
       "    </tr>\n",
       "    <tr>\n",
       "      <th>28</th>\n",
       "      <td>mean_14_dow_3_bfore</td>\n",
       "      <td>0.000522</td>\n",
       "    </tr>\n",
       "    <tr>\n",
       "      <th>29</th>\n",
       "      <td>mean_14_dow_2_bfore</td>\n",
       "      <td>0.000497</td>\n",
       "    </tr>\n",
       "    <tr>\n",
       "      <th>30</th>\n",
       "      <td>max_14_before</td>\n",
       "      <td>0.000424</td>\n",
       "    </tr>\n",
       "    <tr>\n",
       "      <th>31</th>\n",
       "      <td>last_has_sales_day_in_last_40</td>\n",
       "      <td>0.000422</td>\n",
       "    </tr>\n",
       "    <tr>\n",
       "      <th>32</th>\n",
       "      <td>date_index</td>\n",
       "      <td>0.000417</td>\n",
       "    </tr>\n",
       "    <tr>\n",
       "      <th>33</th>\n",
       "      <td>promo_7_after</td>\n",
       "      <td>0.000368</td>\n",
       "    </tr>\n",
       "    <tr>\n",
       "      <th>34</th>\n",
       "      <td>item_mean_30_diff_before</td>\n",
       "      <td>0.000338</td>\n",
       "    </tr>\n",
       "    <tr>\n",
       "      <th>35</th>\n",
       "      <td>onpromotion_at_14_days</td>\n",
       "      <td>0.000303</td>\n",
       "    </tr>\n",
       "    <tr>\n",
       "      <th>36</th>\n",
       "      <td>item_month</td>\n",
       "      <td>0.000302</td>\n",
       "    </tr>\n",
       "    <tr>\n",
       "      <th>37</th>\n",
       "      <td>store_class_month</td>\n",
       "      <td>0.000299</td>\n",
       "    </tr>\n",
       "    <tr>\n",
       "      <th>38</th>\n",
       "      <td>std_40_before</td>\n",
       "      <td>0.000296</td>\n",
       "    </tr>\n",
       "    <tr>\n",
       "      <th>39</th>\n",
       "      <td>onpromotion_at_13_days</td>\n",
       "      <td>0.000295</td>\n",
       "    </tr>\n",
       "    <tr>\n",
       "      <th>40</th>\n",
       "      <td>month</td>\n",
       "      <td>0.000276</td>\n",
       "    </tr>\n",
       "    <tr>\n",
       "      <th>41</th>\n",
       "      <td>item_mean_40_diff_before</td>\n",
       "      <td>0.000276</td>\n",
       "    </tr>\n",
       "    <tr>\n",
       "      <th>42</th>\n",
       "      <td>onpromotion_at_11_days</td>\n",
       "      <td>0.000260</td>\n",
       "    </tr>\n",
       "    <tr>\n",
       "      <th>43</th>\n",
       "      <td>onpromotion_at_12_days</td>\n",
       "      <td>0.000252</td>\n",
       "    </tr>\n",
       "    <tr>\n",
       "      <th>44</th>\n",
       "      <td>has_promo_days_in_last_30</td>\n",
       "      <td>0.000247</td>\n",
       "    </tr>\n",
       "    <tr>\n",
       "      <th>45</th>\n",
       "      <td>first_has_sales_day_in_last_40</td>\n",
       "      <td>0.000244</td>\n",
       "    </tr>\n",
       "    <tr>\n",
       "      <th>46</th>\n",
       "      <td>last_has_sales_day_in_last_30</td>\n",
       "      <td>0.000217</td>\n",
       "    </tr>\n",
       "    <tr>\n",
       "      <th>47</th>\n",
       "      <td>onpromotion_at_15_days</td>\n",
       "      <td>0.000205</td>\n",
       "    </tr>\n",
       "    <tr>\n",
       "      <th>48</th>\n",
       "      <td>promo_3_after</td>\n",
       "      <td>0.000190</td>\n",
       "    </tr>\n",
       "    <tr>\n",
       "      <th>49</th>\n",
       "      <td>item_max_3_before</td>\n",
       "      <td>0.000161</td>\n",
       "    </tr>\n",
       "    <tr>\n",
       "      <th>50</th>\n",
       "      <td>std_14_before</td>\n",
       "      <td>0.000158</td>\n",
       "    </tr>\n",
       "    <tr>\n",
       "      <th>51</th>\n",
       "      <td>item_promo_14_after</td>\n",
       "      <td>0.000151</td>\n",
       "    </tr>\n",
       "    <tr>\n",
       "      <th>52</th>\n",
       "      <td>item_has_sales_days_in_last_40</td>\n",
       "      <td>0.000140</td>\n",
       "    </tr>\n",
       "    <tr>\n",
       "      <th>53</th>\n",
       "      <td>item_nbr</td>\n",
       "      <td>0.000122</td>\n",
       "    </tr>\n",
       "    <tr>\n",
       "      <th>54</th>\n",
       "      <td>mean_7_dow_1_bfore</td>\n",
       "      <td>0.000118</td>\n",
       "    </tr>\n",
       "    <tr>\n",
       "      <th>55</th>\n",
       "      <td>promos_40_before</td>\n",
       "      <td>0.000113</td>\n",
       "    </tr>\n",
       "    <tr>\n",
       "      <th>56</th>\n",
       "      <td>has_promo_days_in_last_40</td>\n",
       "      <td>0.000111</td>\n",
       "    </tr>\n",
       "    <tr>\n",
       "      <th>57</th>\n",
       "      <td>store_class_mean_40_diff_before</td>\n",
       "      <td>0.000109</td>\n",
       "    </tr>\n",
       "    <tr>\n",
       "      <th>58</th>\n",
       "      <td>item_promos_40_before</td>\n",
       "      <td>0.000103</td>\n",
       "    </tr>\n",
       "    <tr>\n",
       "      <th>59</th>\n",
       "      <td>onpromotion_at_7_days</td>\n",
       "      <td>0.000101</td>\n",
       "    </tr>\n",
       "  </tbody>\n",
       "</table>\n",
       "</div>"
      ],
      "text/plain": [
       "                            feature     score\n",
       "0                     sum_14_before  0.454851\n",
       "1                    mean_14_before  0.314681\n",
       "2                    mean_30_before  0.061810\n",
       "3                     sum_30_before  0.054516\n",
       "4                    mean_40_before  0.029909\n",
       "5                     sum_40_before  0.028628\n",
       "6                    promo_14_after  0.008888\n",
       "7                   store_class_dow  0.005143\n",
       "8                               dow  0.005110\n",
       "9                          item_dow  0.004356\n",
       "10                     sum_7_before  0.003793\n",
       "11                    mean_7_before  0.003151\n",
       "12              mean_14_dow_0_bfore  0.002191\n",
       "13              mean_14_dow_1_bfore  0.002027\n",
       "14              mean_14_dow_6_bfore  0.001125\n",
       "15   first_has_sales_day_in_last_30  0.000973\n",
       "16                              day  0.000899\n",
       "17                         item_day  0.000871\n",
       "18              mean_14_dow_4_bfore  0.000864\n",
       "19                  store_class_day  0.000776\n",
       "20                    mean_3_before  0.000719\n",
       "21                     max_3_before  0.000716\n",
       "22                 promos_14_before  0.000688\n",
       "23        has_promo_days_in_last_14  0.000669\n",
       "24              mean_14_dow_5_bfore  0.000661\n",
       "25                     sum_3_before  0.000643\n",
       "26         item_mean_14_diff_before  0.000623\n",
       "27          item_mean_1_dow_6_bfore  0.000588\n",
       "28              mean_14_dow_3_bfore  0.000522\n",
       "29              mean_14_dow_2_bfore  0.000497\n",
       "30                    max_14_before  0.000424\n",
       "31    last_has_sales_day_in_last_40  0.000422\n",
       "32                       date_index  0.000417\n",
       "33                    promo_7_after  0.000368\n",
       "34         item_mean_30_diff_before  0.000338\n",
       "35           onpromotion_at_14_days  0.000303\n",
       "36                       item_month  0.000302\n",
       "37                store_class_month  0.000299\n",
       "38                    std_40_before  0.000296\n",
       "39           onpromotion_at_13_days  0.000295\n",
       "40                            month  0.000276\n",
       "41         item_mean_40_diff_before  0.000276\n",
       "42           onpromotion_at_11_days  0.000260\n",
       "43           onpromotion_at_12_days  0.000252\n",
       "44        has_promo_days_in_last_30  0.000247\n",
       "45   first_has_sales_day_in_last_40  0.000244\n",
       "46    last_has_sales_day_in_last_30  0.000217\n",
       "47           onpromotion_at_15_days  0.000205\n",
       "48                    promo_3_after  0.000190\n",
       "49                item_max_3_before  0.000161\n",
       "50                    std_14_before  0.000158\n",
       "51              item_promo_14_after  0.000151\n",
       "52   item_has_sales_days_in_last_40  0.000140\n",
       "53                         item_nbr  0.000122\n",
       "54               mean_7_dow_1_bfore  0.000118\n",
       "55                 promos_40_before  0.000113\n",
       "56        has_promo_days_in_last_40  0.000111\n",
       "57  store_class_mean_40_diff_before  0.000109\n",
       "58            item_promos_40_before  0.000103\n",
       "59            onpromotion_at_7_days  0.000101"
      ]
     },
     "execution_count": 74,
     "metadata": {},
     "output_type": "execute_result"
    }
   ],
   "source": [
    "top_features"
   ]
  },
  {
   "cell_type": "markdown",
   "metadata": {},
   "source": [
    "### Draw tree"
   ]
  },
  {
   "cell_type": "code",
   "execution_count": 76,
   "metadata": {},
   "outputs": [],
   "source": [
    "n = int(0.1 * len(df))"
   ]
  },
  {
   "cell_type": "code",
   "execution_count": 77,
   "metadata": {},
   "outputs": [],
   "source": [
    "samp_df = df[n:].copy()\n",
    "samp_yl = yl[n:].copy()"
   ]
  },
  {
   "cell_type": "code",
   "execution_count": 78,
   "metadata": {},
   "outputs": [],
   "source": [
    "samp_m = RandomForestRegressor(n_estimators=1, max_depth=4, min_samples_leaf=50, bootstrap=False, n_jobs=-1)"
   ]
  },
  {
   "cell_type": "code",
   "execution_count": 79,
   "metadata": {},
   "outputs": [],
   "source": [
    "samp_df = np.array(samp_df, dtype=np.float32)"
   ]
  },
  {
   "cell_type": "code",
   "execution_count": 80,
   "metadata": {},
   "outputs": [
    {
     "data": {
      "text/plain": [
       "RandomForestRegressor(bootstrap=False, criterion='mse', max_depth=4,\n",
       "           max_features='auto', max_leaf_nodes=None,\n",
       "           min_impurity_decrease=0.0, min_impurity_split=None,\n",
       "           min_samples_leaf=50, min_samples_split=2,\n",
       "           min_weight_fraction_leaf=0.0, n_estimators=1, n_jobs=-1,\n",
       "           oob_score=False, random_state=None, verbose=0, warm_start=False)"
      ]
     },
     "execution_count": 80,
     "metadata": {},
     "output_type": "execute_result"
    }
   ],
   "source": [
    "samp_m.fit(samp_df, samp_yl)"
   ]
  },
  {
   "cell_type": "code",
   "execution_count": 81,
   "metadata": {},
   "outputs": [
    {
     "data": {
      "text/plain": [
       "0.61597269369871965"
      ]
     },
     "execution_count": 81,
     "metadata": {},
     "output_type": "execute_result"
    }
   ],
   "source": [
    "samp_m.score(samp_df, samp_yl)"
   ]
  },
  {
   "cell_type": "code",
   "execution_count": 85,
   "metadata": {
    "scrolled": false
   },
   "outputs": [
    {
     "data": {
      "image/svg+xml": [
       "<?xml version=\"1.0\" encoding=\"UTF-8\" standalone=\"no\"?>\n",
       "<!DOCTYPE svg PUBLIC \"-//W3C//DTD SVG 1.1//EN\"\n",
       " \"http://www.w3.org/Graphics/SVG/1.1/DTD/svg11.dtd\">\n",
       "<!-- Generated by graphviz version 2.38.0 (20140413.2041)\n",
       " -->\n",
       "<!-- Title: Tree Pages: 1 -->\n",
       "<svg width=\"4320pt\" height=\"2594pt\"\n",
       " viewBox=\"0.00 0.00 4320.00 2593.76\" xmlns=\"http://www.w3.org/2000/svg\" xmlns:xlink=\"http://www.w3.org/1999/xlink\">\n",
       "<g id=\"graph0\" class=\"graph\" transform=\"scale(0.548827 0.548827) rotate(0) translate(4 4722)\">\n",
       "<title>Tree</title>\n",
       "<polygon fill=\"white\" stroke=\"none\" points=\"-4,4 -4,-4722 7867.33,-4722 7867.33,4 -4,4\"/>\n",
       "<!-- 0 -->\n",
       "<g id=\"node1\" class=\"node\"><title>0</title>\n",
       "<polygon fill=\"none\" stroke=\"black\" points=\"796.833,-2505.5 609.833,-2505.5 609.833,-2212.5 796.833,-2212.5 796.833,-2505.5\"/>\n",
       "<text text-anchor=\"start\" x=\"617.833\" y=\"-2490.3\" font-family=\"Times,serif\" font-size=\"14.00\">mean_14_before ≤ 0.34</text>\n",
       "<text text-anchor=\"start\" x=\"666.833\" y=\"-2475.3\" font-family=\"Times,serif\" font-size=\"14.00\">mse = 1.0</text>\n",
       "<text text-anchor=\"start\" x=\"631.833\" y=\"-2460.3\" font-family=\"Times,serif\" font-size=\"14.00\">samples = 1959926</text>\n",
       "<text text-anchor=\"start\" x=\"647.333\" y=\"-2445.3\" font-family=\"Times,serif\" font-size=\"14.00\">value = [[&#45;0.01]</text>\n",
       "<text text-anchor=\"start\" x=\"679.833\" y=\"-2430.3\" font-family=\"Times,serif\" font-size=\"14.00\">[&#45;0.01]</text>\n",
       "<text text-anchor=\"start\" x=\"681.833\" y=\"-2415.3\" font-family=\"Times,serif\" font-size=\"14.00\">[0.01]</text>\n",
       "<text text-anchor=\"start\" x=\"681.833\" y=\"-2400.3\" font-family=\"Times,serif\" font-size=\"14.00\">[0.02]</text>\n",
       "<text text-anchor=\"start\" x=\"686.333\" y=\"-2385.3\" font-family=\"Times,serif\" font-size=\"14.00\">[0.0]</text>\n",
       "<text text-anchor=\"start\" x=\"684.333\" y=\"-2370.3\" font-family=\"Times,serif\" font-size=\"14.00\">[&#45;0.0]</text>\n",
       "<text text-anchor=\"start\" x=\"686.333\" y=\"-2355.3\" font-family=\"Times,serif\" font-size=\"14.00\">[0.0]</text>\n",
       "<text text-anchor=\"start\" x=\"679.833\" y=\"-2340.3\" font-family=\"Times,serif\" font-size=\"14.00\">[&#45;0.01]</text>\n",
       "<text text-anchor=\"start\" x=\"679.833\" y=\"-2325.3\" font-family=\"Times,serif\" font-size=\"14.00\">[&#45;0.02]</text>\n",
       "<text text-anchor=\"start\" x=\"681.833\" y=\"-2310.3\" font-family=\"Times,serif\" font-size=\"14.00\">[0.02]</text>\n",
       "<text text-anchor=\"start\" x=\"681.833\" y=\"-2295.3\" font-family=\"Times,serif\" font-size=\"14.00\">[0.01]</text>\n",
       "<text text-anchor=\"start\" x=\"684.333\" y=\"-2280.3\" font-family=\"Times,serif\" font-size=\"14.00\">[&#45;0.0]</text>\n",
       "<text text-anchor=\"start\" x=\"679.833\" y=\"-2265.3\" font-family=\"Times,serif\" font-size=\"14.00\">[&#45;0.01]</text>\n",
       "<text text-anchor=\"start\" x=\"679.833\" y=\"-2250.3\" font-family=\"Times,serif\" font-size=\"14.00\">[&#45;0.01]</text>\n",
       "<text text-anchor=\"start\" x=\"679.833\" y=\"-2235.3\" font-family=\"Times,serif\" font-size=\"14.00\">[&#45;0.03]</text>\n",
       "<text text-anchor=\"start\" x=\"679.333\" y=\"-2220.3\" font-family=\"Times,serif\" font-size=\"14.00\">[0.01]]</text>\n",
       "</g>\n",
       "<!-- 1 -->\n",
       "<g id=\"node2\" class=\"node\"><title>1</title>\n",
       "<polygon fill=\"#e58139\" fill-opacity=\"0.607843\" stroke=\"black\" points=\"2453.33,-3096.5 2271.33,-3096.5 2271.33,-2803.5 2453.33,-2803.5 2453.33,-3096.5\"/>\n",
       "<text text-anchor=\"start\" x=\"2279.33\" y=\"-3081.3\" font-family=\"Times,serif\" font-size=\"14.00\">sum_14_before ≤ &#45;0.54</text>\n",
       "<text text-anchor=\"start\" x=\"2321.33\" y=\"-3066.3\" font-family=\"Times,serif\" font-size=\"14.00\">mse = 0.46</text>\n",
       "<text text-anchor=\"start\" x=\"2290.83\" y=\"-3051.3\" font-family=\"Times,serif\" font-size=\"14.00\">samples = 1337089</text>\n",
       "<text text-anchor=\"start\" x=\"2306.33\" y=\"-3036.3\" font-family=\"Times,serif\" font-size=\"14.00\">value = [[&#45;0.46]</text>\n",
       "<text text-anchor=\"start\" x=\"2338.83\" y=\"-3021.3\" font-family=\"Times,serif\" font-size=\"14.00\">[&#45;0.45]</text>\n",
       "<text text-anchor=\"start\" x=\"2338.83\" y=\"-3006.3\" font-family=\"Times,serif\" font-size=\"14.00\">[&#45;0.44]</text>\n",
       "<text text-anchor=\"start\" x=\"2338.83\" y=\"-2991.3\" font-family=\"Times,serif\" font-size=\"14.00\">[&#45;0.43]</text>\n",
       "<text text-anchor=\"start\" x=\"2338.83\" y=\"-2976.3\" font-family=\"Times,serif\" font-size=\"14.00\">[&#45;0.44]</text>\n",
       "<text text-anchor=\"start\" x=\"2338.83\" y=\"-2961.3\" font-family=\"Times,serif\" font-size=\"14.00\">[&#45;0.44]</text>\n",
       "<text text-anchor=\"start\" x=\"2338.83\" y=\"-2946.3\" font-family=\"Times,serif\" font-size=\"14.00\">[&#45;0.44]</text>\n",
       "<text text-anchor=\"start\" x=\"2338.83\" y=\"-2931.3\" font-family=\"Times,serif\" font-size=\"14.00\">[&#45;0.45]</text>\n",
       "<text text-anchor=\"start\" x=\"2338.83\" y=\"-2916.3\" font-family=\"Times,serif\" font-size=\"14.00\">[&#45;0.45]</text>\n",
       "<text text-anchor=\"start\" x=\"2338.83\" y=\"-2901.3\" font-family=\"Times,serif\" font-size=\"14.00\">[&#45;0.42]</text>\n",
       "<text text-anchor=\"start\" x=\"2338.83\" y=\"-2886.3\" font-family=\"Times,serif\" font-size=\"14.00\">[&#45;0.43]</text>\n",
       "<text text-anchor=\"start\" x=\"2338.83\" y=\"-2871.3\" font-family=\"Times,serif\" font-size=\"14.00\">[&#45;0.43]</text>\n",
       "<text text-anchor=\"start\" x=\"2338.83\" y=\"-2856.3\" font-family=\"Times,serif\" font-size=\"14.00\">[&#45;0.44]</text>\n",
       "<text text-anchor=\"start\" x=\"2338.83\" y=\"-2841.3\" font-family=\"Times,serif\" font-size=\"14.00\">[&#45;0.44]</text>\n",
       "<text text-anchor=\"start\" x=\"2338.83\" y=\"-2826.3\" font-family=\"Times,serif\" font-size=\"14.00\">[&#45;0.45]</text>\n",
       "<text text-anchor=\"start\" x=\"2336.33\" y=\"-2811.3\" font-family=\"Times,serif\" font-size=\"14.00\">[&#45;0.42]]</text>\n",
       "</g>\n",
       "<!-- 0&#45;&gt;1 -->\n",
       "<g id=\"edge1\" class=\"edge\"><title>0&#45;&gt;1</title>\n",
       "<path fill=\"none\" stroke=\"black\" d=\"M796.971,-2392.04C1085.12,-2494.81 1964.07,-2808.31 2261.64,-2914.44\"/>\n",
       "<polygon fill=\"black\" stroke=\"black\" points=\"2260.53,-2917.76 2271.12,-2917.83 2262.88,-2911.17 2260.53,-2917.76\"/>\n",
       "<text text-anchor=\"middle\" x=\"2248.54\" y=\"-2924.84\" font-family=\"Times,serif\" font-size=\"14.00\">True</text>\n",
       "</g>\n",
       "<!-- 16 -->\n",
       "<g id=\"node17\" class=\"node\"><title>16</title>\n",
       "<polygon fill=\"#e58139\" fill-opacity=\"0.141176\" stroke=\"black\" points=\"2451.33,-1914.5 2273.33,-1914.5 2273.33,-1621.5 2451.33,-1621.5 2451.33,-1914.5\"/>\n",
       "<text text-anchor=\"start\" x=\"2281.33\" y=\"-1899.3\" font-family=\"Times,serif\" font-size=\"14.00\">sum_14_before ≤ 1.54</text>\n",
       "<text text-anchor=\"start\" x=\"2321.33\" y=\"-1884.3\" font-family=\"Times,serif\" font-size=\"14.00\">mse = 0.87</text>\n",
       "<text text-anchor=\"start\" x=\"2295.33\" y=\"-1869.3\" font-family=\"Times,serif\" font-size=\"14.00\">samples = 622837</text>\n",
       "<text text-anchor=\"start\" x=\"2308.83\" y=\"-1854.3\" font-family=\"Times,serif\" font-size=\"14.00\">value = [[0.95]</text>\n",
       "<text text-anchor=\"start\" x=\"2340.83\" y=\"-1839.3\" font-family=\"Times,serif\" font-size=\"14.00\">[0.95]</text>\n",
       "<text text-anchor=\"start\" x=\"2340.83\" y=\"-1824.3\" font-family=\"Times,serif\" font-size=\"14.00\">[0.97]</text>\n",
       "<text text-anchor=\"start\" x=\"2340.83\" y=\"-1809.3\" font-family=\"Times,serif\" font-size=\"14.00\">[0.98]</text>\n",
       "<text text-anchor=\"start\" x=\"2340.83\" y=\"-1794.3\" font-family=\"Times,serif\" font-size=\"14.00\">[0.95]</text>\n",
       "<text text-anchor=\"start\" x=\"2340.83\" y=\"-1779.3\" font-family=\"Times,serif\" font-size=\"14.00\">[0.94]</text>\n",
       "<text text-anchor=\"start\" x=\"2340.83\" y=\"-1764.3\" font-family=\"Times,serif\" font-size=\"14.00\">[0.94]</text>\n",
       "<text text-anchor=\"start\" x=\"2340.83\" y=\"-1749.3\" font-family=\"Times,serif\" font-size=\"14.00\">[0.92]</text>\n",
       "<text text-anchor=\"start\" x=\"2345.33\" y=\"-1734.3\" font-family=\"Times,serif\" font-size=\"14.00\">[0.9]</text>\n",
       "<text text-anchor=\"start\" x=\"2340.83\" y=\"-1719.3\" font-family=\"Times,serif\" font-size=\"14.00\">[0.96]</text>\n",
       "<text text-anchor=\"start\" x=\"2340.83\" y=\"-1704.3\" font-family=\"Times,serif\" font-size=\"14.00\">[0.94]</text>\n",
       "<text text-anchor=\"start\" x=\"2340.83\" y=\"-1689.3\" font-family=\"Times,serif\" font-size=\"14.00\">[0.92]</text>\n",
       "<text text-anchor=\"start\" x=\"2345.33\" y=\"-1674.3\" font-family=\"Times,serif\" font-size=\"14.00\">[0.9]</text>\n",
       "<text text-anchor=\"start\" x=\"2340.83\" y=\"-1659.3\" font-family=\"Times,serif\" font-size=\"14.00\">[0.91]</text>\n",
       "<text text-anchor=\"start\" x=\"2340.83\" y=\"-1644.3\" font-family=\"Times,serif\" font-size=\"14.00\">[0.88]</text>\n",
       "<text text-anchor=\"start\" x=\"2338.33\" y=\"-1629.3\" font-family=\"Times,serif\" font-size=\"14.00\">[0.94]]</text>\n",
       "</g>\n",
       "<!-- 0&#45;&gt;16 -->\n",
       "<g id=\"edge16\" class=\"edge\"><title>0&#45;&gt;16</title>\n",
       "<path fill=\"none\" stroke=\"black\" d=\"M796.971,-2325.96C1085.65,-2223 1967.32,-1908.53 2263.28,-1802.97\"/>\n",
       "<polygon fill=\"black\" stroke=\"black\" points=\"2264.89,-1806.11 2273.14,-1799.46 2262.54,-1799.52 2264.89,-1806.11\"/>\n",
       "<text text-anchor=\"middle\" x=\"2250.55\" y=\"-1785.05\" font-family=\"Times,serif\" font-size=\"14.00\">False</text>\n",
       "</g>\n",
       "<!-- 2 -->\n",
       "<g id=\"node3\" class=\"node\"><title>2</title>\n",
       "<polygon fill=\"#e58139\" fill-opacity=\"0.850980\" stroke=\"black\" points=\"4132.83,-3977.5 3941.83,-3977.5 3941.83,-3684.5 4132.83,-3684.5 4132.83,-3977.5\"/>\n",
       "<text text-anchor=\"start\" x=\"3949.83\" y=\"-3962.3\" font-family=\"Times,serif\" font-size=\"14.00\">mean_14_before ≤ &#45;0.96</text>\n",
       "<text text-anchor=\"start\" x=\"3996.33\" y=\"-3947.3\" font-family=\"Times,serif\" font-size=\"14.00\">mse = 0.24</text>\n",
       "<text text-anchor=\"start\" x=\"3970.33\" y=\"-3932.3\" font-family=\"Times,serif\" font-size=\"14.00\">samples = 700871</text>\n",
       "<text text-anchor=\"start\" x=\"3981.33\" y=\"-3917.3\" font-family=\"Times,serif\" font-size=\"14.00\">value = [[&#45;0.77]</text>\n",
       "<text text-anchor=\"start\" x=\"4013.83\" y=\"-3902.3\" font-family=\"Times,serif\" font-size=\"14.00\">[&#45;0.77]</text>\n",
       "<text text-anchor=\"start\" x=\"4013.83\" y=\"-3887.3\" font-family=\"Times,serif\" font-size=\"14.00\">[&#45;0.76]</text>\n",
       "<text text-anchor=\"start\" x=\"4013.83\" y=\"-3872.3\" font-family=\"Times,serif\" font-size=\"14.00\">[&#45;0.75]</text>\n",
       "<text text-anchor=\"start\" x=\"4013.83\" y=\"-3857.3\" font-family=\"Times,serif\" font-size=\"14.00\">[&#45;0.75]</text>\n",
       "<text text-anchor=\"start\" x=\"4013.83\" y=\"-3842.3\" font-family=\"Times,serif\" font-size=\"14.00\">[&#45;0.75]</text>\n",
       "<text text-anchor=\"start\" x=\"4013.83\" y=\"-3827.3\" font-family=\"Times,serif\" font-size=\"14.00\">[&#45;0.74]</text>\n",
       "<text text-anchor=\"start\" x=\"4013.83\" y=\"-3812.3\" font-family=\"Times,serif\" font-size=\"14.00\">[&#45;0.75]</text>\n",
       "<text text-anchor=\"start\" x=\"4013.83\" y=\"-3797.3\" font-family=\"Times,serif\" font-size=\"14.00\">[&#45;0.75]</text>\n",
       "<text text-anchor=\"start\" x=\"4013.83\" y=\"-3782.3\" font-family=\"Times,serif\" font-size=\"14.00\">[&#45;0.73]</text>\n",
       "<text text-anchor=\"start\" x=\"4013.83\" y=\"-3767.3\" font-family=\"Times,serif\" font-size=\"14.00\">[&#45;0.73]</text>\n",
       "<text text-anchor=\"start\" x=\"4013.83\" y=\"-3752.3\" font-family=\"Times,serif\" font-size=\"14.00\">[&#45;0.73]</text>\n",
       "<text text-anchor=\"start\" x=\"4013.83\" y=\"-3737.3\" font-family=\"Times,serif\" font-size=\"14.00\">[&#45;0.74]</text>\n",
       "<text text-anchor=\"start\" x=\"4013.83\" y=\"-3722.3\" font-family=\"Times,serif\" font-size=\"14.00\">[&#45;0.73]</text>\n",
       "<text text-anchor=\"start\" x=\"4013.83\" y=\"-3707.3\" font-family=\"Times,serif\" font-size=\"14.00\">[&#45;0.74]</text>\n",
       "<text text-anchor=\"start\" x=\"4011.33\" y=\"-3692.3\" font-family=\"Times,serif\" font-size=\"14.00\">[&#45;0.72]]</text>\n",
       "</g>\n",
       "<!-- 1&#45;&gt;2 -->\n",
       "<g id=\"edge2\" class=\"edge\"><title>1&#45;&gt;2</title>\n",
       "<path fill=\"none\" stroke=\"black\" d=\"M2453.58,-2997.52C2739.99,-3148.35 3627.54,-3615.73 3932.33,-3776.23\"/>\n",
       "<polygon fill=\"black\" stroke=\"black\" points=\"3931.13,-3779.56 3941.61,-3781.12 3934.39,-3773.36 3931.13,-3779.56\"/>\n",
       "</g>\n",
       "<!-- 9 -->\n",
       "<g id=\"node10\" class=\"node\"><title>9</title>\n",
       "<polygon fill=\"#e58139\" fill-opacity=\"0.580392\" stroke=\"black\" points=\"4132.83,-3096.5 3941.83,-3096.5 3941.83,-2803.5 4132.83,-2803.5 4132.83,-3096.5\"/>\n",
       "<text text-anchor=\"start\" x=\"3949.83\" y=\"-3081.3\" font-family=\"Times,serif\" font-size=\"14.00\">mean_40_before ≤ &#45;0.11</text>\n",
       "<text text-anchor=\"start\" x=\"3996.33\" y=\"-3066.3\" font-family=\"Times,serif\" font-size=\"14.00\">mse = 0.48</text>\n",
       "<text text-anchor=\"start\" x=\"3970.33\" y=\"-3051.3\" font-family=\"Times,serif\" font-size=\"14.00\">samples = 636218</text>\n",
       "<text text-anchor=\"start\" x=\"3981.33\" y=\"-3036.3\" font-family=\"Times,serif\" font-size=\"14.00\">value = [[&#45;0.12]</text>\n",
       "<text text-anchor=\"start\" x=\"4013.83\" y=\"-3021.3\" font-family=\"Times,serif\" font-size=\"14.00\">[&#45;0.11]</text>\n",
       "<text text-anchor=\"start\" x=\"4018.33\" y=\"-3006.3\" font-family=\"Times,serif\" font-size=\"14.00\">[&#45;0.1]</text>\n",
       "<text text-anchor=\"start\" x=\"4013.83\" y=\"-2991.3\" font-family=\"Times,serif\" font-size=\"14.00\">[&#45;0.08]</text>\n",
       "<text text-anchor=\"start\" x=\"4018.33\" y=\"-2976.3\" font-family=\"Times,serif\" font-size=\"14.00\">[&#45;0.1]</text>\n",
       "<text text-anchor=\"start\" x=\"4013.83\" y=\"-2961.3\" font-family=\"Times,serif\" font-size=\"14.00\">[&#45;0.11]</text>\n",
       "<text text-anchor=\"start\" x=\"4018.33\" y=\"-2946.3\" font-family=\"Times,serif\" font-size=\"14.00\">[&#45;0.1]</text>\n",
       "<text text-anchor=\"start\" x=\"4013.83\" y=\"-2931.3\" font-family=\"Times,serif\" font-size=\"14.00\">[&#45;0.12]</text>\n",
       "<text text-anchor=\"start\" x=\"4013.83\" y=\"-2916.3\" font-family=\"Times,serif\" font-size=\"14.00\">[&#45;0.13]</text>\n",
       "<text text-anchor=\"start\" x=\"4013.83\" y=\"-2901.3\" font-family=\"Times,serif\" font-size=\"14.00\">[&#45;0.08]</text>\n",
       "<text text-anchor=\"start\" x=\"4013.83\" y=\"-2886.3\" font-family=\"Times,serif\" font-size=\"14.00\">[&#45;0.09]</text>\n",
       "<text text-anchor=\"start\" x=\"4018.33\" y=\"-2871.3\" font-family=\"Times,serif\" font-size=\"14.00\">[&#45;0.1]</text>\n",
       "<text text-anchor=\"start\" x=\"4013.83\" y=\"-2856.3\" font-family=\"Times,serif\" font-size=\"14.00\">[&#45;0.12]</text>\n",
       "<text text-anchor=\"start\" x=\"4013.83\" y=\"-2841.3\" font-family=\"Times,serif\" font-size=\"14.00\">[&#45;0.11]</text>\n",
       "<text text-anchor=\"start\" x=\"4013.83\" y=\"-2826.3\" font-family=\"Times,serif\" font-size=\"14.00\">[&#45;0.13]</text>\n",
       "<text text-anchor=\"start\" x=\"4011.33\" y=\"-2811.3\" font-family=\"Times,serif\" font-size=\"14.00\">[&#45;0.09]]</text>\n",
       "</g>\n",
       "<!-- 1&#45;&gt;9 -->\n",
       "<g id=\"edge9\" class=\"edge\"><title>1&#45;&gt;9</title>\n",
       "<path fill=\"none\" stroke=\"black\" d=\"M2453.58,-2950C2739.71,-2950 3625.79,-2950 3931.42,-2950\"/>\n",
       "<polygon fill=\"black\" stroke=\"black\" points=\"3931.61,-2953.5 3941.61,-2950 3931.61,-2946.5 3931.61,-2953.5\"/>\n",
       "</g>\n",
       "<!-- 3 -->\n",
       "<g id=\"node4\" class=\"node\"><title>3</title>\n",
       "<polygon fill=\"#e58139\" fill-opacity=\"0.960784\" stroke=\"black\" points=\"5838.83,-4429.5 5651.83,-4429.5 5651.83,-4136.5 5838.83,-4136.5 5838.83,-4429.5\"/>\n",
       "<text text-anchor=\"start\" x=\"5659.83\" y=\"-4414.3\" font-family=\"Times,serif\" font-size=\"14.00\">promo_14_after ≤ &#45;0.22</text>\n",
       "<text text-anchor=\"start\" x=\"5704.33\" y=\"-4399.3\" font-family=\"Times,serif\" font-size=\"14.00\">mse = 0.14</text>\n",
       "<text text-anchor=\"start\" x=\"5678.33\" y=\"-4384.3\" font-family=\"Times,serif\" font-size=\"14.00\">samples = 381298</text>\n",
       "<text text-anchor=\"start\" x=\"5689.33\" y=\"-4369.3\" font-family=\"Times,serif\" font-size=\"14.00\">value = [[&#45;0.92]</text>\n",
       "<text text-anchor=\"start\" x=\"5721.83\" y=\"-4354.3\" font-family=\"Times,serif\" font-size=\"14.00\">[&#45;0.91]</text>\n",
       "<text text-anchor=\"start\" x=\"5726.33\" y=\"-4339.3\" font-family=\"Times,serif\" font-size=\"14.00\">[&#45;0.9]</text>\n",
       "<text text-anchor=\"start\" x=\"5721.83\" y=\"-4324.3\" font-family=\"Times,serif\" font-size=\"14.00\">[&#45;0.89]</text>\n",
       "<text text-anchor=\"start\" x=\"5721.83\" y=\"-4309.3\" font-family=\"Times,serif\" font-size=\"14.00\">[&#45;0.89]</text>\n",
       "<text text-anchor=\"start\" x=\"5721.83\" y=\"-4294.3\" font-family=\"Times,serif\" font-size=\"14.00\">[&#45;0.89]</text>\n",
       "<text text-anchor=\"start\" x=\"5721.83\" y=\"-4279.3\" font-family=\"Times,serif\" font-size=\"14.00\">[&#45;0.88]</text>\n",
       "<text text-anchor=\"start\" x=\"5721.83\" y=\"-4264.3\" font-family=\"Times,serif\" font-size=\"14.00\">[&#45;0.88]</text>\n",
       "<text text-anchor=\"start\" x=\"5721.83\" y=\"-4249.3\" font-family=\"Times,serif\" font-size=\"14.00\">[&#45;0.88]</text>\n",
       "<text text-anchor=\"start\" x=\"5721.83\" y=\"-4234.3\" font-family=\"Times,serif\" font-size=\"14.00\">[&#45;0.87]</text>\n",
       "<text text-anchor=\"start\" x=\"5721.83\" y=\"-4219.3\" font-family=\"Times,serif\" font-size=\"14.00\">[&#45;0.87]</text>\n",
       "<text text-anchor=\"start\" x=\"5721.83\" y=\"-4204.3\" font-family=\"Times,serif\" font-size=\"14.00\">[&#45;0.87]</text>\n",
       "<text text-anchor=\"start\" x=\"5721.83\" y=\"-4189.3\" font-family=\"Times,serif\" font-size=\"14.00\">[&#45;0.87]</text>\n",
       "<text text-anchor=\"start\" x=\"5721.83\" y=\"-4174.3\" font-family=\"Times,serif\" font-size=\"14.00\">[&#45;0.86]</text>\n",
       "<text text-anchor=\"start\" x=\"5721.83\" y=\"-4159.3\" font-family=\"Times,serif\" font-size=\"14.00\">[&#45;0.86]</text>\n",
       "<text text-anchor=\"start\" x=\"5719.33\" y=\"-4144.3\" font-family=\"Times,serif\" font-size=\"14.00\">[&#45;0.85]]</text>\n",
       "</g>\n",
       "<!-- 2&#45;&gt;3 -->\n",
       "<g id=\"edge3\" class=\"edge\"><title>2&#45;&gt;3</title>\n",
       "<path fill=\"none\" stroke=\"black\" d=\"M4133.1,-3856.11C4429.18,-3934.55 5335.43,-4174.66 5641.85,-4255.85\"/>\n",
       "<polygon fill=\"black\" stroke=\"black\" points=\"5641.05,-4259.26 5651.62,-4258.43 5642.85,-4252.49 5641.05,-4259.26\"/>\n",
       "</g>\n",
       "<!-- 6 -->\n",
       "<g id=\"node7\" class=\"node\"><title>6</title>\n",
       "<polygon fill=\"#e58139\" fill-opacity=\"0.772549\" stroke=\"black\" points=\"5840.83,-3977.5 5649.83,-3977.5 5649.83,-3684.5 5840.83,-3684.5 5840.83,-3977.5\"/>\n",
       "<text text-anchor=\"start\" x=\"5657.83\" y=\"-3962.3\" font-family=\"Times,serif\" font-size=\"14.00\">mean_40_before ≤ &#45;0.68</text>\n",
       "<text text-anchor=\"start\" x=\"5704.33\" y=\"-3947.3\" font-family=\"Times,serif\" font-size=\"14.00\">mse = 0.31</text>\n",
       "<text text-anchor=\"start\" x=\"5678.33\" y=\"-3932.3\" font-family=\"Times,serif\" font-size=\"14.00\">samples = 319573</text>\n",
       "<text text-anchor=\"start\" x=\"5689.33\" y=\"-3917.3\" font-family=\"Times,serif\" font-size=\"14.00\">value = [[&#45;0.59]</text>\n",
       "<text text-anchor=\"start\" x=\"5721.83\" y=\"-3902.3\" font-family=\"Times,serif\" font-size=\"14.00\">[&#45;0.59]</text>\n",
       "<text text-anchor=\"start\" x=\"5721.83\" y=\"-3887.3\" font-family=\"Times,serif\" font-size=\"14.00\">[&#45;0.58]</text>\n",
       "<text text-anchor=\"start\" x=\"5721.83\" y=\"-3872.3\" font-family=\"Times,serif\" font-size=\"14.00\">[&#45;0.57]</text>\n",
       "<text text-anchor=\"start\" x=\"5721.83\" y=\"-3857.3\" font-family=\"Times,serif\" font-size=\"14.00\">[&#45;0.58]</text>\n",
       "<text text-anchor=\"start\" x=\"5721.83\" y=\"-3842.3\" font-family=\"Times,serif\" font-size=\"14.00\">[&#45;0.58]</text>\n",
       "<text text-anchor=\"start\" x=\"5721.83\" y=\"-3827.3\" font-family=\"Times,serif\" font-size=\"14.00\">[&#45;0.58]</text>\n",
       "<text text-anchor=\"start\" x=\"5721.83\" y=\"-3812.3\" font-family=\"Times,serif\" font-size=\"14.00\">[&#45;0.59]</text>\n",
       "<text text-anchor=\"start\" x=\"5721.83\" y=\"-3797.3\" font-family=\"Times,serif\" font-size=\"14.00\">[&#45;0.59]</text>\n",
       "<text text-anchor=\"start\" x=\"5721.83\" y=\"-3782.3\" font-family=\"Times,serif\" font-size=\"14.00\">[&#45;0.57]</text>\n",
       "<text text-anchor=\"start\" x=\"5721.83\" y=\"-3767.3\" font-family=\"Times,serif\" font-size=\"14.00\">[&#45;0.57]</text>\n",
       "<text text-anchor=\"start\" x=\"5721.83\" y=\"-3752.3\" font-family=\"Times,serif\" font-size=\"14.00\">[&#45;0.57]</text>\n",
       "<text text-anchor=\"start\" x=\"5721.83\" y=\"-3737.3\" font-family=\"Times,serif\" font-size=\"14.00\">[&#45;0.58]</text>\n",
       "<text text-anchor=\"start\" x=\"5721.83\" y=\"-3722.3\" font-family=\"Times,serif\" font-size=\"14.00\">[&#45;0.58]</text>\n",
       "<text text-anchor=\"start\" x=\"5721.83\" y=\"-3707.3\" font-family=\"Times,serif\" font-size=\"14.00\">[&#45;0.59]</text>\n",
       "<text text-anchor=\"start\" x=\"5719.33\" y=\"-3692.3\" font-family=\"Times,serif\" font-size=\"14.00\">[&#45;0.57]]</text>\n",
       "</g>\n",
       "<!-- 2&#45;&gt;6 -->\n",
       "<g id=\"edge6\" class=\"edge\"><title>2&#45;&gt;6</title>\n",
       "<path fill=\"none\" stroke=\"black\" d=\"M4133.1,-3831C4428.43,-3831 5330.83,-3831 5639.5,-3831\"/>\n",
       "<polygon fill=\"black\" stroke=\"black\" points=\"5639.79,-3834.5 5649.79,-3831 5639.79,-3827.5 5639.79,-3834.5\"/>\n",
       "</g>\n",
       "<!-- 4 -->\n",
       "<g id=\"node5\" class=\"node\"><title>4</title>\n",
       "<polygon fill=\"#e58139\" stroke=\"black\" points=\"7374.33,-4718 7224.33,-4718 7224.33,-4440 7374.33,-4440 7374.33,-4718\"/>\n",
       "<text text-anchor=\"start\" x=\"7258.33\" y=\"-4702.8\" font-family=\"Times,serif\" font-size=\"14.00\">mse = 0.11</text>\n",
       "<text text-anchor=\"start\" x=\"7232.33\" y=\"-4687.8\" font-family=\"Times,serif\" font-size=\"14.00\">samples = 355812</text>\n",
       "<text text-anchor=\"start\" x=\"7243.33\" y=\"-4672.8\" font-family=\"Times,serif\" font-size=\"14.00\">value = [[&#45;0.93]</text>\n",
       "<text text-anchor=\"start\" x=\"7275.83\" y=\"-4657.8\" font-family=\"Times,serif\" font-size=\"14.00\">[&#45;0.93]</text>\n",
       "<text text-anchor=\"start\" x=\"7275.83\" y=\"-4642.8\" font-family=\"Times,serif\" font-size=\"14.00\">[&#45;0.92]</text>\n",
       "<text text-anchor=\"start\" x=\"7275.83\" y=\"-4627.8\" font-family=\"Times,serif\" font-size=\"14.00\">[&#45;0.91]</text>\n",
       "<text text-anchor=\"start\" x=\"7275.83\" y=\"-4612.8\" font-family=\"Times,serif\" font-size=\"14.00\">[&#45;0.91]</text>\n",
       "<text text-anchor=\"start\" x=\"7275.83\" y=\"-4597.8\" font-family=\"Times,serif\" font-size=\"14.00\">[&#45;0.91]</text>\n",
       "<text text-anchor=\"start\" x=\"7275.83\" y=\"-4582.8\" font-family=\"Times,serif\" font-size=\"14.00\">[&#45;0.91]</text>\n",
       "<text text-anchor=\"start\" x=\"7275.83\" y=\"-4567.8\" font-family=\"Times,serif\" font-size=\"14.00\">[&#45;0.91]</text>\n",
       "<text text-anchor=\"start\" x=\"7275.83\" y=\"-4552.8\" font-family=\"Times,serif\" font-size=\"14.00\">[&#45;0.91]</text>\n",
       "<text text-anchor=\"start\" x=\"7280.33\" y=\"-4537.8\" font-family=\"Times,serif\" font-size=\"14.00\">[&#45;0.9]</text>\n",
       "<text text-anchor=\"start\" x=\"7280.33\" y=\"-4522.8\" font-family=\"Times,serif\" font-size=\"14.00\">[&#45;0.9]</text>\n",
       "<text text-anchor=\"start\" x=\"7280.33\" y=\"-4507.8\" font-family=\"Times,serif\" font-size=\"14.00\">[&#45;0.9]</text>\n",
       "<text text-anchor=\"start\" x=\"7275.83\" y=\"-4492.8\" font-family=\"Times,serif\" font-size=\"14.00\">[&#45;0.89]</text>\n",
       "<text text-anchor=\"start\" x=\"7275.83\" y=\"-4477.8\" font-family=\"Times,serif\" font-size=\"14.00\">[&#45;0.89]</text>\n",
       "<text text-anchor=\"start\" x=\"7275.83\" y=\"-4462.8\" font-family=\"Times,serif\" font-size=\"14.00\">[&#45;0.89]</text>\n",
       "<text text-anchor=\"start\" x=\"7273.33\" y=\"-4447.8\" font-family=\"Times,serif\" font-size=\"14.00\">[&#45;0.88]]</text>\n",
       "</g>\n",
       "<!-- 3&#45;&gt;4 -->\n",
       "<g id=\"edge4\" class=\"edge\"><title>3&#45;&gt;4</title>\n",
       "<path fill=\"none\" stroke=\"black\" d=\"M5839.06,-4300.68C6118.01,-4353.89 6946.68,-4511.93 7214.11,-4562.94\"/>\n",
       "<polygon fill=\"black\" stroke=\"black\" points=\"7213.67,-4566.42 7224.15,-4564.85 7214.98,-4559.54 7213.67,-4566.42\"/>\n",
       "</g>\n",
       "<!-- 5 -->\n",
       "<g id=\"node6\" class=\"node\"><title>5</title>\n",
       "<polygon fill=\"#e58139\" fill-opacity=\"0.568627\" stroke=\"black\" points=\"7369.83,-4422 7228.83,-4422 7228.83,-4144 7369.83,-4144 7369.83,-4422\"/>\n",
       "<text text-anchor=\"start\" x=\"7258.33\" y=\"-4406.8\" font-family=\"Times,serif\" font-size=\"14.00\">mse = 0.49</text>\n",
       "<text text-anchor=\"start\" x=\"7236.83\" y=\"-4391.8\" font-family=\"Times,serif\" font-size=\"14.00\">samples = 25486</text>\n",
       "<text text-anchor=\"start\" x=\"7243.33\" y=\"-4376.8\" font-family=\"Times,serif\" font-size=\"14.00\">value = [[&#45;0.77]</text>\n",
       "<text text-anchor=\"start\" x=\"7280.33\" y=\"-4361.8\" font-family=\"Times,serif\" font-size=\"14.00\">[&#45;0.7]</text>\n",
       "<text text-anchor=\"start\" x=\"7275.83\" y=\"-4346.8\" font-family=\"Times,serif\" font-size=\"14.00\">[&#45;0.67]</text>\n",
       "<text text-anchor=\"start\" x=\"7275.83\" y=\"-4331.8\" font-family=\"Times,serif\" font-size=\"14.00\">[&#45;0.64]</text>\n",
       "<text text-anchor=\"start\" x=\"7275.83\" y=\"-4316.8\" font-family=\"Times,serif\" font-size=\"14.00\">[&#45;0.62]</text>\n",
       "<text text-anchor=\"start\" x=\"7280.33\" y=\"-4301.8\" font-family=\"Times,serif\" font-size=\"14.00\">[&#45;0.6]</text>\n",
       "<text text-anchor=\"start\" x=\"7275.83\" y=\"-4286.8\" font-family=\"Times,serif\" font-size=\"14.00\">[&#45;0.57]</text>\n",
       "<text text-anchor=\"start\" x=\"7275.83\" y=\"-4271.8\" font-family=\"Times,serif\" font-size=\"14.00\">[&#45;0.55]</text>\n",
       "<text text-anchor=\"start\" x=\"7275.83\" y=\"-4256.8\" font-family=\"Times,serif\" font-size=\"14.00\">[&#45;0.54]</text>\n",
       "<text text-anchor=\"start\" x=\"7280.33\" y=\"-4241.8\" font-family=\"Times,serif\" font-size=\"14.00\">[&#45;0.5]</text>\n",
       "<text text-anchor=\"start\" x=\"7275.83\" y=\"-4226.8\" font-family=\"Times,serif\" font-size=\"14.00\">[&#45;0.48]</text>\n",
       "<text text-anchor=\"start\" x=\"7275.83\" y=\"-4211.8\" font-family=\"Times,serif\" font-size=\"14.00\">[&#45;0.48]</text>\n",
       "<text text-anchor=\"start\" x=\"7275.83\" y=\"-4196.8\" font-family=\"Times,serif\" font-size=\"14.00\">[&#45;0.47]</text>\n",
       "<text text-anchor=\"start\" x=\"7275.83\" y=\"-4181.8\" font-family=\"Times,serif\" font-size=\"14.00\">[&#45;0.44]</text>\n",
       "<text text-anchor=\"start\" x=\"7275.83\" y=\"-4166.8\" font-family=\"Times,serif\" font-size=\"14.00\">[&#45;0.46]</text>\n",
       "<text text-anchor=\"start\" x=\"7273.33\" y=\"-4151.8\" font-family=\"Times,serif\" font-size=\"14.00\">[&#45;0.47]]</text>\n",
       "</g>\n",
       "<!-- 3&#45;&gt;5 -->\n",
       "<g id=\"edge5\" class=\"edge\"><title>3&#45;&gt;5</title>\n",
       "<path fill=\"none\" stroke=\"black\" d=\"M5839.06,-4283C6119.48,-4283 6955.45,-4283 7218.3,-4283\"/>\n",
       "<polygon fill=\"black\" stroke=\"black\" points=\"7218.53,-4286.5 7228.53,-4283 7218.53,-4279.5 7218.53,-4286.5\"/>\n",
       "</g>\n",
       "<!-- 7 -->\n",
       "<g id=\"node8\" class=\"node\"><title>7</title>\n",
       "<polygon fill=\"#e58139\" fill-opacity=\"0.831373\" stroke=\"black\" points=\"7374.33,-4126 7224.33,-4126 7224.33,-3848 7374.33,-3848 7374.33,-4126\"/>\n",
       "<text text-anchor=\"start\" x=\"7258.33\" y=\"-4110.8\" font-family=\"Times,serif\" font-size=\"14.00\">mse = 0.25</text>\n",
       "<text text-anchor=\"start\" x=\"7232.33\" y=\"-4095.8\" font-family=\"Times,serif\" font-size=\"14.00\">samples = 197572</text>\n",
       "<text text-anchor=\"start\" x=\"7243.33\" y=\"-4080.8\" font-family=\"Times,serif\" font-size=\"14.00\">value = [[&#45;0.66]</text>\n",
       "<text text-anchor=\"start\" x=\"7275.83\" y=\"-4065.8\" font-family=\"Times,serif\" font-size=\"14.00\">[&#45;0.66]</text>\n",
       "<text text-anchor=\"start\" x=\"7275.83\" y=\"-4050.8\" font-family=\"Times,serif\" font-size=\"14.00\">[&#45;0.65]</text>\n",
       "<text text-anchor=\"start\" x=\"7275.83\" y=\"-4035.8\" font-family=\"Times,serif\" font-size=\"14.00\">[&#45;0.65]</text>\n",
       "<text text-anchor=\"start\" x=\"7275.83\" y=\"-4020.8\" font-family=\"Times,serif\" font-size=\"14.00\">[&#45;0.66]</text>\n",
       "<text text-anchor=\"start\" x=\"7275.83\" y=\"-4005.8\" font-family=\"Times,serif\" font-size=\"14.00\">[&#45;0.66]</text>\n",
       "<text text-anchor=\"start\" x=\"7275.83\" y=\"-3990.8\" font-family=\"Times,serif\" font-size=\"14.00\">[&#45;0.65]</text>\n",
       "<text text-anchor=\"start\" x=\"7275.83\" y=\"-3975.8\" font-family=\"Times,serif\" font-size=\"14.00\">[&#45;0.66]</text>\n",
       "<text text-anchor=\"start\" x=\"7275.83\" y=\"-3960.8\" font-family=\"Times,serif\" font-size=\"14.00\">[&#45;0.67]</text>\n",
       "<text text-anchor=\"start\" x=\"7275.83\" y=\"-3945.8\" font-family=\"Times,serif\" font-size=\"14.00\">[&#45;0.65]</text>\n",
       "<text text-anchor=\"start\" x=\"7275.83\" y=\"-3930.8\" font-family=\"Times,serif\" font-size=\"14.00\">[&#45;0.65]</text>\n",
       "<text text-anchor=\"start\" x=\"7275.83\" y=\"-3915.8\" font-family=\"Times,serif\" font-size=\"14.00\">[&#45;0.66]</text>\n",
       "<text text-anchor=\"start\" x=\"7275.83\" y=\"-3900.8\" font-family=\"Times,serif\" font-size=\"14.00\">[&#45;0.66]</text>\n",
       "<text text-anchor=\"start\" x=\"7275.83\" y=\"-3885.8\" font-family=\"Times,serif\" font-size=\"14.00\">[&#45;0.66]</text>\n",
       "<text text-anchor=\"start\" x=\"7275.83\" y=\"-3870.8\" font-family=\"Times,serif\" font-size=\"14.00\">[&#45;0.67]</text>\n",
       "<text text-anchor=\"start\" x=\"7273.33\" y=\"-3855.8\" font-family=\"Times,serif\" font-size=\"14.00\">[&#45;0.65]]</text>\n",
       "</g>\n",
       "<!-- 6&#45;&gt;7 -->\n",
       "<g id=\"edge7\" class=\"edge\"><title>6&#45;&gt;7</title>\n",
       "<path fill=\"none\" stroke=\"black\" d=\"M5841.08,-3840.52C6121.95,-3868.75 6947.03,-3951.69 7213.97,-3978.52\"/>\n",
       "<polygon fill=\"black\" stroke=\"black\" points=\"7213.69,-3982.01 7223.99,-3979.53 7214.39,-3975.04 7213.69,-3982.01\"/>\n",
       "</g>\n",
       "<!-- 8 -->\n",
       "<g id=\"node9\" class=\"node\"><title>8</title>\n",
       "<polygon fill=\"#e58139\" fill-opacity=\"0.705882\" stroke=\"black\" points=\"7374.33,-3830 7224.33,-3830 7224.33,-3552 7374.33,-3552 7374.33,-3830\"/>\n",
       "<text text-anchor=\"start\" x=\"7258.33\" y=\"-3814.8\" font-family=\"Times,serif\" font-size=\"14.00\">mse = 0.37</text>\n",
       "<text text-anchor=\"start\" x=\"7232.33\" y=\"-3799.8\" font-family=\"Times,serif\" font-size=\"14.00\">samples = 122001</text>\n",
       "<text text-anchor=\"start\" x=\"7243.33\" y=\"-3784.8\" font-family=\"Times,serif\" font-size=\"14.00\">value = [[&#45;0.49]</text>\n",
       "<text text-anchor=\"start\" x=\"7275.83\" y=\"-3769.8\" font-family=\"Times,serif\" font-size=\"14.00\">[&#45;0.48]</text>\n",
       "<text text-anchor=\"start\" x=\"7275.83\" y=\"-3754.8\" font-family=\"Times,serif\" font-size=\"14.00\">[&#45;0.46]</text>\n",
       "<text text-anchor=\"start\" x=\"7275.83\" y=\"-3739.8\" font-family=\"Times,serif\" font-size=\"14.00\">[&#45;0.44]</text>\n",
       "<text text-anchor=\"start\" x=\"7275.83\" y=\"-3724.8\" font-family=\"Times,serif\" font-size=\"14.00\">[&#45;0.45]</text>\n",
       "<text text-anchor=\"start\" x=\"7275.83\" y=\"-3709.8\" font-family=\"Times,serif\" font-size=\"14.00\">[&#45;0.45]</text>\n",
       "<text text-anchor=\"start\" x=\"7275.83\" y=\"-3694.8\" font-family=\"Times,serif\" font-size=\"14.00\">[&#45;0.45]</text>\n",
       "<text text-anchor=\"start\" x=\"7275.83\" y=\"-3679.8\" font-family=\"Times,serif\" font-size=\"14.00\">[&#45;0.47]</text>\n",
       "<text text-anchor=\"start\" x=\"7275.83\" y=\"-3664.8\" font-family=\"Times,serif\" font-size=\"14.00\">[&#45;0.47]</text>\n",
       "<text text-anchor=\"start\" x=\"7275.83\" y=\"-3649.8\" font-family=\"Times,serif\" font-size=\"14.00\">[&#45;0.43]</text>\n",
       "<text text-anchor=\"start\" x=\"7275.83\" y=\"-3634.8\" font-family=\"Times,serif\" font-size=\"14.00\">[&#45;0.44]</text>\n",
       "<text text-anchor=\"start\" x=\"7275.83\" y=\"-3619.8\" font-family=\"Times,serif\" font-size=\"14.00\">[&#45;0.44]</text>\n",
       "<text text-anchor=\"start\" x=\"7275.83\" y=\"-3604.8\" font-family=\"Times,serif\" font-size=\"14.00\">[&#45;0.45]</text>\n",
       "<text text-anchor=\"start\" x=\"7275.83\" y=\"-3589.8\" font-family=\"Times,serif\" font-size=\"14.00\">[&#45;0.45]</text>\n",
       "<text text-anchor=\"start\" x=\"7275.83\" y=\"-3574.8\" font-family=\"Times,serif\" font-size=\"14.00\">[&#45;0.46]</text>\n",
       "<text text-anchor=\"start\" x=\"7273.33\" y=\"-3559.8\" font-family=\"Times,serif\" font-size=\"14.00\">[&#45;0.44]]</text>\n",
       "</g>\n",
       "<!-- 6&#45;&gt;8 -->\n",
       "<g id=\"edge8\" class=\"edge\"><title>6&#45;&gt;8</title>\n",
       "<path fill=\"none\" stroke=\"black\" d=\"M5841.08,-3822.45C6121.95,-3797.12 6947.03,-3722.69 7213.97,-3698.61\"/>\n",
       "<polygon fill=\"black\" stroke=\"black\" points=\"7214.34,-3702.09 7223.99,-3697.71 7213.71,-3695.12 7214.34,-3702.09\"/>\n",
       "</g>\n",
       "<!-- 10 -->\n",
       "<g id=\"node11\" class=\"node\"><title>10</title>\n",
       "<polygon fill=\"#e58139\" fill-opacity=\"0.650980\" stroke=\"black\" points=\"5836.33,-3252.5 5654.33,-3252.5 5654.33,-2959.5 5836.33,-2959.5 5836.33,-3252.5\"/>\n",
       "<text text-anchor=\"start\" x=\"5662.33\" y=\"-3237.3\" font-family=\"Times,serif\" font-size=\"14.00\">promo_14_after ≤ 3.07</text>\n",
       "<text text-anchor=\"start\" x=\"5704.33\" y=\"-3222.3\" font-family=\"Times,serif\" font-size=\"14.00\">mse = 0.42</text>\n",
       "<text text-anchor=\"start\" x=\"5678.33\" y=\"-3207.3\" font-family=\"Times,serif\" font-size=\"14.00\">samples = 333499</text>\n",
       "<text text-anchor=\"start\" x=\"5689.33\" y=\"-3192.3\" font-family=\"Times,serif\" font-size=\"14.00\">value = [[&#45;0.27]</text>\n",
       "<text text-anchor=\"start\" x=\"5721.83\" y=\"-3177.3\" font-family=\"Times,serif\" font-size=\"14.00\">[&#45;0.26]</text>\n",
       "<text text-anchor=\"start\" x=\"5721.83\" y=\"-3162.3\" font-family=\"Times,serif\" font-size=\"14.00\">[&#45;0.25]</text>\n",
       "<text text-anchor=\"start\" x=\"5721.83\" y=\"-3147.3\" font-family=\"Times,serif\" font-size=\"14.00\">[&#45;0.25]</text>\n",
       "<text text-anchor=\"start\" x=\"5721.83\" y=\"-3132.3\" font-family=\"Times,serif\" font-size=\"14.00\">[&#45;0.27]</text>\n",
       "<text text-anchor=\"start\" x=\"5721.83\" y=\"-3117.3\" font-family=\"Times,serif\" font-size=\"14.00\">[&#45;0.27]</text>\n",
       "<text text-anchor=\"start\" x=\"5721.83\" y=\"-3102.3\" font-family=\"Times,serif\" font-size=\"14.00\">[&#45;0.26]</text>\n",
       "<text text-anchor=\"start\" x=\"5721.83\" y=\"-3087.3\" font-family=\"Times,serif\" font-size=\"14.00\">[&#45;0.28]</text>\n",
       "<text text-anchor=\"start\" x=\"5721.83\" y=\"-3072.3\" font-family=\"Times,serif\" font-size=\"14.00\">[&#45;0.29]</text>\n",
       "<text text-anchor=\"start\" x=\"5721.83\" y=\"-3057.3\" font-family=\"Times,serif\" font-size=\"14.00\">[&#45;0.25]</text>\n",
       "<text text-anchor=\"start\" x=\"5721.83\" y=\"-3042.3\" font-family=\"Times,serif\" font-size=\"14.00\">[&#45;0.26]</text>\n",
       "<text text-anchor=\"start\" x=\"5721.83\" y=\"-3027.3\" font-family=\"Times,serif\" font-size=\"14.00\">[&#45;0.28]</text>\n",
       "<text text-anchor=\"start\" x=\"5721.83\" y=\"-3012.3\" font-family=\"Times,serif\" font-size=\"14.00\">[&#45;0.29]</text>\n",
       "<text text-anchor=\"start\" x=\"5721.83\" y=\"-2997.3\" font-family=\"Times,serif\" font-size=\"14.00\">[&#45;0.28]</text>\n",
       "<text text-anchor=\"start\" x=\"5721.83\" y=\"-2982.3\" font-family=\"Times,serif\" font-size=\"14.00\">[&#45;0.29]</text>\n",
       "<text text-anchor=\"start\" x=\"5719.33\" y=\"-2967.3\" font-family=\"Times,serif\" font-size=\"14.00\">[&#45;0.26]]</text>\n",
       "</g>\n",
       "<!-- 9&#45;&gt;10 -->\n",
       "<g id=\"edge10\" class=\"edge\"><title>9&#45;&gt;10</title>\n",
       "<path fill=\"none\" stroke=\"black\" d=\"M4133.1,-2958.67C4429.9,-2985.81 5339.83,-3069.01 5644.07,-3096.83\"/>\n",
       "<polygon fill=\"black\" stroke=\"black\" points=\"5643.92,-3100.33 5654.2,-3097.76 5644.56,-3093.36 5643.92,-3100.33\"/>\n",
       "</g>\n",
       "<!-- 13 -->\n",
       "<g id=\"node14\" class=\"node\"><title>13</title>\n",
       "<polygon fill=\"#e58139\" fill-opacity=\"0.572549\" stroke=\"black\" points=\"5838.83,-2941.5 5651.83,-2941.5 5651.83,-2648.5 5838.83,-2648.5 5838.83,-2941.5\"/>\n",
       "<text text-anchor=\"start\" x=\"5659.83\" y=\"-2926.3\" font-family=\"Times,serif\" font-size=\"14.00\">mean_40_before ≤ 0.18</text>\n",
       "<text text-anchor=\"start\" x=\"5704.33\" y=\"-2911.3\" font-family=\"Times,serif\" font-size=\"14.00\">mse = 0.49</text>\n",
       "<text text-anchor=\"start\" x=\"5678.33\" y=\"-2896.3\" font-family=\"Times,serif\" font-size=\"14.00\">samples = 302719</text>\n",
       "<text text-anchor=\"start\" x=\"5691.83\" y=\"-2881.3\" font-family=\"Times,serif\" font-size=\"14.00\">value = [[0.05]</text>\n",
       "<text text-anchor=\"start\" x=\"5723.83\" y=\"-2866.3\" font-family=\"Times,serif\" font-size=\"14.00\">[0.06]</text>\n",
       "<text text-anchor=\"start\" x=\"5723.83\" y=\"-2851.3\" font-family=\"Times,serif\" font-size=\"14.00\">[0.08]</text>\n",
       "<text text-anchor=\"start\" x=\"5723.83\" y=\"-2836.3\" font-family=\"Times,serif\" font-size=\"14.00\">[0.11]</text>\n",
       "<text text-anchor=\"start\" x=\"5723.83\" y=\"-2821.3\" font-family=\"Times,serif\" font-size=\"14.00\">[0.09]</text>\n",
       "<text text-anchor=\"start\" x=\"5723.83\" y=\"-2806.3\" font-family=\"Times,serif\" font-size=\"14.00\">[0.08]</text>\n",
       "<text text-anchor=\"start\" x=\"5723.83\" y=\"-2791.3\" font-family=\"Times,serif\" font-size=\"14.00\">[0.08]</text>\n",
       "<text text-anchor=\"start\" x=\"5723.83\" y=\"-2776.3\" font-family=\"Times,serif\" font-size=\"14.00\">[0.06]</text>\n",
       "<text text-anchor=\"start\" x=\"5723.83\" y=\"-2761.3\" font-family=\"Times,serif\" font-size=\"14.00\">[0.05]</text>\n",
       "<text text-anchor=\"start\" x=\"5728.33\" y=\"-2746.3\" font-family=\"Times,serif\" font-size=\"14.00\">[0.1]</text>\n",
       "<text text-anchor=\"start\" x=\"5728.33\" y=\"-2731.3\" font-family=\"Times,serif\" font-size=\"14.00\">[0.1]</text>\n",
       "<text text-anchor=\"start\" x=\"5723.83\" y=\"-2716.3\" font-family=\"Times,serif\" font-size=\"14.00\">[0.09]</text>\n",
       "<text text-anchor=\"start\" x=\"5723.83\" y=\"-2701.3\" font-family=\"Times,serif\" font-size=\"14.00\">[0.07]</text>\n",
       "<text text-anchor=\"start\" x=\"5723.83\" y=\"-2686.3\" font-family=\"Times,serif\" font-size=\"14.00\">[0.08]</text>\n",
       "<text text-anchor=\"start\" x=\"5723.83\" y=\"-2671.3\" font-family=\"Times,serif\" font-size=\"14.00\">[0.05]</text>\n",
       "<text text-anchor=\"start\" x=\"5721.33\" y=\"-2656.3\" font-family=\"Times,serif\" font-size=\"14.00\">[0.09]]</text>\n",
       "</g>\n",
       "<!-- 9&#45;&gt;13 -->\n",
       "<g id=\"edge13\" class=\"edge\"><title>9&#45;&gt;13</title>\n",
       "<path fill=\"none\" stroke=\"black\" d=\"M4133.1,-2941.39C4429.04,-2914.5 5334.53,-2832.23 5641.39,-2804.35\"/>\n",
       "<polygon fill=\"black\" stroke=\"black\" points=\"5641.97,-2807.81 5651.62,-2803.42 5641.34,-2800.84 5641.97,-2807.81\"/>\n",
       "</g>\n",
       "<!-- 11 -->\n",
       "<g id=\"node12\" class=\"node\"><title>11</title>\n",
       "<polygon fill=\"#e58139\" fill-opacity=\"0.666667\" stroke=\"black\" points=\"7374.33,-3534 7224.33,-3534 7224.33,-3256 7374.33,-3256 7374.33,-3534\"/>\n",
       "<text text-anchor=\"start\" x=\"7262.83\" y=\"-3518.8\" font-family=\"Times,serif\" font-size=\"14.00\">mse = 0.4</text>\n",
       "<text text-anchor=\"start\" x=\"7232.33\" y=\"-3503.8\" font-family=\"Times,serif\" font-size=\"14.00\">samples = 319059</text>\n",
       "<text text-anchor=\"start\" x=\"7243.33\" y=\"-3488.8\" font-family=\"Times,serif\" font-size=\"14.00\">value = [[&#45;0.28]</text>\n",
       "<text text-anchor=\"start\" x=\"7275.83\" y=\"-3473.8\" font-family=\"Times,serif\" font-size=\"14.00\">[&#45;0.28]</text>\n",
       "<text text-anchor=\"start\" x=\"7275.83\" y=\"-3458.8\" font-family=\"Times,serif\" font-size=\"14.00\">[&#45;0.27]</text>\n",
       "<text text-anchor=\"start\" x=\"7275.83\" y=\"-3443.8\" font-family=\"Times,serif\" font-size=\"14.00\">[&#45;0.27]</text>\n",
       "<text text-anchor=\"start\" x=\"7275.83\" y=\"-3428.8\" font-family=\"Times,serif\" font-size=\"14.00\">[&#45;0.29]</text>\n",
       "<text text-anchor=\"start\" x=\"7275.83\" y=\"-3413.8\" font-family=\"Times,serif\" font-size=\"14.00\">[&#45;0.29]</text>\n",
       "<text text-anchor=\"start\" x=\"7275.83\" y=\"-3398.8\" font-family=\"Times,serif\" font-size=\"14.00\">[&#45;0.28]</text>\n",
       "<text text-anchor=\"start\" x=\"7280.33\" y=\"-3383.8\" font-family=\"Times,serif\" font-size=\"14.00\">[&#45;0.3]</text>\n",
       "<text text-anchor=\"start\" x=\"7275.83\" y=\"-3368.8\" font-family=\"Times,serif\" font-size=\"14.00\">[&#45;0.31]</text>\n",
       "<text text-anchor=\"start\" x=\"7275.83\" y=\"-3353.8\" font-family=\"Times,serif\" font-size=\"14.00\">[&#45;0.28]</text>\n",
       "<text text-anchor=\"start\" x=\"7275.83\" y=\"-3338.8\" font-family=\"Times,serif\" font-size=\"14.00\">[&#45;0.29]</text>\n",
       "<text text-anchor=\"start\" x=\"7280.33\" y=\"-3323.8\" font-family=\"Times,serif\" font-size=\"14.00\">[&#45;0.3]</text>\n",
       "<text text-anchor=\"start\" x=\"7280.33\" y=\"-3308.8\" font-family=\"Times,serif\" font-size=\"14.00\">[&#45;0.3]</text>\n",
       "<text text-anchor=\"start\" x=\"7280.33\" y=\"-3293.8\" font-family=\"Times,serif\" font-size=\"14.00\">[&#45;0.3]</text>\n",
       "<text text-anchor=\"start\" x=\"7275.83\" y=\"-3278.8\" font-family=\"Times,serif\" font-size=\"14.00\">[&#45;0.31]</text>\n",
       "<text text-anchor=\"start\" x=\"7273.33\" y=\"-3263.8\" font-family=\"Times,serif\" font-size=\"14.00\">[&#45;0.28]]</text>\n",
       "</g>\n",
       "<!-- 10&#45;&gt;11 -->\n",
       "<g id=\"edge11\" class=\"edge\"><title>10&#45;&gt;11</title>\n",
       "<path fill=\"none\" stroke=\"black\" d=\"M5836.48,-3122.79C6112.89,-3174.26 6945.96,-3329.38 7214.16,-3379.33\"/>\n",
       "<polygon fill=\"black\" stroke=\"black\" points=\"7213.76,-3382.81 7224.23,-3381.2 7215.04,-3375.93 7213.76,-3382.81\"/>\n",
       "</g>\n",
       "<!-- 12 -->\n",
       "<g id=\"node13\" class=\"node\"><title>12</title>\n",
       "<polygon fill=\"#e58139\" fill-opacity=\"0.513725\" stroke=\"black\" points=\"7369.83,-3238 7228.83,-3238 7228.83,-2960 7369.83,-2960 7369.83,-3238\"/>\n",
       "<text text-anchor=\"start\" x=\"7258.33\" y=\"-3222.8\" font-family=\"Times,serif\" font-size=\"14.00\">mse = 0.54</text>\n",
       "<text text-anchor=\"start\" x=\"7236.83\" y=\"-3207.8\" font-family=\"Times,serif\" font-size=\"14.00\">samples = 14440</text>\n",
       "<text text-anchor=\"start\" x=\"7245.83\" y=\"-3192.8\" font-family=\"Times,serif\" font-size=\"14.00\">value = [[0.03]</text>\n",
       "<text text-anchor=\"start\" x=\"7277.83\" y=\"-3177.8\" font-family=\"Times,serif\" font-size=\"14.00\">[0.08]</text>\n",
       "<text text-anchor=\"start\" x=\"7277.83\" y=\"-3162.8\" font-family=\"Times,serif\" font-size=\"14.00\">[0.13]</text>\n",
       "<text text-anchor=\"start\" x=\"7277.83\" y=\"-3147.8\" font-family=\"Times,serif\" font-size=\"14.00\">[0.16]</text>\n",
       "<text text-anchor=\"start\" x=\"7277.83\" y=\"-3132.8\" font-family=\"Times,serif\" font-size=\"14.00\">[0.19]</text>\n",
       "<text text-anchor=\"start\" x=\"7277.83\" y=\"-3117.8\" font-family=\"Times,serif\" font-size=\"14.00\">[0.16]</text>\n",
       "<text text-anchor=\"start\" x=\"7277.83\" y=\"-3102.8\" font-family=\"Times,serif\" font-size=\"14.00\">[0.19]</text>\n",
       "<text text-anchor=\"start\" x=\"7277.83\" y=\"-3087.8\" font-family=\"Times,serif\" font-size=\"14.00\">[0.17]</text>\n",
       "<text text-anchor=\"start\" x=\"7277.83\" y=\"-3072.8\" font-family=\"Times,serif\" font-size=\"14.00\">[0.17]</text>\n",
       "<text text-anchor=\"start\" x=\"7277.83\" y=\"-3057.8\" font-family=\"Times,serif\" font-size=\"14.00\">[0.25]</text>\n",
       "<text text-anchor=\"start\" x=\"7277.83\" y=\"-3042.8\" font-family=\"Times,serif\" font-size=\"14.00\">[0.24]</text>\n",
       "<text text-anchor=\"start\" x=\"7277.83\" y=\"-3027.8\" font-family=\"Times,serif\" font-size=\"14.00\">[0.17]</text>\n",
       "<text text-anchor=\"start\" x=\"7277.83\" y=\"-3012.8\" font-family=\"Times,serif\" font-size=\"14.00\">[0.13]</text>\n",
       "<text text-anchor=\"start\" x=\"7277.83\" y=\"-2997.8\" font-family=\"Times,serif\" font-size=\"14.00\">[0.14]</text>\n",
       "<text text-anchor=\"start\" x=\"7282.33\" y=\"-2982.8\" font-family=\"Times,serif\" font-size=\"14.00\">[0.1]</text>\n",
       "<text text-anchor=\"start\" x=\"7275.33\" y=\"-2967.8\" font-family=\"Times,serif\" font-size=\"14.00\">[0.07]]</text>\n",
       "</g>\n",
       "<!-- 10&#45;&gt;12 -->\n",
       "<g id=\"edge12\" class=\"edge\"><title>10&#45;&gt;12</title>\n",
       "<path fill=\"none\" stroke=\"black\" d=\"M5836.48,-3105.59C6114.35,-3104.34 6954.78,-3100.55 7218.36,-3099.36\"/>\n",
       "<polygon fill=\"black\" stroke=\"black\" points=\"7218.63,-3102.86 7228.62,-3099.31 7218.6,-3095.86 7218.63,-3102.86\"/>\n",
       "</g>\n",
       "<!-- 14 -->\n",
       "<g id=\"node15\" class=\"node\"><title>14</title>\n",
       "<polygon fill=\"#e58139\" fill-opacity=\"0.619608\" stroke=\"black\" points=\"7374.33,-2942 7224.33,-2942 7224.33,-2664 7374.33,-2664 7374.33,-2942\"/>\n",
       "<text text-anchor=\"start\" x=\"7258.33\" y=\"-2926.8\" font-family=\"Times,serif\" font-size=\"14.00\">mse = 0.44</text>\n",
       "<text text-anchor=\"start\" x=\"7232.33\" y=\"-2911.8\" font-family=\"Times,serif\" font-size=\"14.00\">samples = 182163</text>\n",
       "<text text-anchor=\"start\" x=\"7243.33\" y=\"-2896.8\" font-family=\"Times,serif\" font-size=\"14.00\">value = [[&#45;0.02]</text>\n",
       "<text text-anchor=\"start\" x=\"7275.83\" y=\"-2881.8\" font-family=\"Times,serif\" font-size=\"14.00\">[&#45;0.01]</text>\n",
       "<text text-anchor=\"start\" x=\"7282.33\" y=\"-2866.8\" font-family=\"Times,serif\" font-size=\"14.00\">[0.0]</text>\n",
       "<text text-anchor=\"start\" x=\"7277.83\" y=\"-2851.8\" font-family=\"Times,serif\" font-size=\"14.00\">[0.02]</text>\n",
       "<text text-anchor=\"start\" x=\"7282.33\" y=\"-2836.8\" font-family=\"Times,serif\" font-size=\"14.00\">[0.0]</text>\n",
       "<text text-anchor=\"start\" x=\"7280.33\" y=\"-2821.8\" font-family=\"Times,serif\" font-size=\"14.00\">[&#45;0.0]</text>\n",
       "<text text-anchor=\"start\" x=\"7282.33\" y=\"-2806.8\" font-family=\"Times,serif\" font-size=\"14.00\">[0.0]</text>\n",
       "<text text-anchor=\"start\" x=\"7275.83\" y=\"-2791.8\" font-family=\"Times,serif\" font-size=\"14.00\">[&#45;0.02]</text>\n",
       "<text text-anchor=\"start\" x=\"7275.83\" y=\"-2776.8\" font-family=\"Times,serif\" font-size=\"14.00\">[&#45;0.03]</text>\n",
       "<text text-anchor=\"start\" x=\"7277.83\" y=\"-2761.8\" font-family=\"Times,serif\" font-size=\"14.00\">[0.02]</text>\n",
       "<text text-anchor=\"start\" x=\"7277.83\" y=\"-2746.8\" font-family=\"Times,serif\" font-size=\"14.00\">[0.01]</text>\n",
       "<text text-anchor=\"start\" x=\"7280.33\" y=\"-2731.8\" font-family=\"Times,serif\" font-size=\"14.00\">[&#45;0.0]</text>\n",
       "<text text-anchor=\"start\" x=\"7275.83\" y=\"-2716.8\" font-family=\"Times,serif\" font-size=\"14.00\">[&#45;0.02]</text>\n",
       "<text text-anchor=\"start\" x=\"7275.83\" y=\"-2701.8\" font-family=\"Times,serif\" font-size=\"14.00\">[&#45;0.01]</text>\n",
       "<text text-anchor=\"start\" x=\"7275.83\" y=\"-2686.8\" font-family=\"Times,serif\" font-size=\"14.00\">[&#45;0.03]</text>\n",
       "<text text-anchor=\"start\" x=\"7275.33\" y=\"-2671.8\" font-family=\"Times,serif\" font-size=\"14.00\">[0.01]]</text>\n",
       "</g>\n",
       "<!-- 13&#45;&gt;14 -->\n",
       "<g id=\"edge14\" class=\"edge\"><title>13&#45;&gt;14</title>\n",
       "<path fill=\"none\" stroke=\"black\" d=\"M5839.06,-2795.48C6118.01,-2796.92 6946.68,-2801.19 7214.11,-2802.57\"/>\n",
       "<polygon fill=\"black\" stroke=\"black\" points=\"7214.13,-2806.07 7224.15,-2802.62 7214.16,-2799.07 7214.13,-2806.07\"/>\n",
       "</g>\n",
       "<!-- 15 -->\n",
       "<g id=\"node16\" class=\"node\"><title>15</title>\n",
       "<polygon fill=\"#e58139\" fill-opacity=\"0.525490\" stroke=\"black\" points=\"7374.33,-2646 7224.33,-2646 7224.33,-2368 7374.33,-2368 7374.33,-2646\"/>\n",
       "<text text-anchor=\"start\" x=\"7258.33\" y=\"-2630.8\" font-family=\"Times,serif\" font-size=\"14.00\">mse = 0.53</text>\n",
       "<text text-anchor=\"start\" x=\"7232.33\" y=\"-2615.8\" font-family=\"Times,serif\" font-size=\"14.00\">samples = 120556</text>\n",
       "<text text-anchor=\"start\" x=\"7245.83\" y=\"-2600.8\" font-family=\"Times,serif\" font-size=\"14.00\">value = [[0.15]</text>\n",
       "<text text-anchor=\"start\" x=\"7277.83\" y=\"-2585.8\" font-family=\"Times,serif\" font-size=\"14.00\">[0.16]</text>\n",
       "<text text-anchor=\"start\" x=\"7277.83\" y=\"-2570.8\" font-family=\"Times,serif\" font-size=\"14.00\">[0.19]</text>\n",
       "<text text-anchor=\"start\" x=\"7277.83\" y=\"-2555.8\" font-family=\"Times,serif\" font-size=\"14.00\">[0.24]</text>\n",
       "<text text-anchor=\"start\" x=\"7277.83\" y=\"-2540.8\" font-family=\"Times,serif\" font-size=\"14.00\">[0.22]</text>\n",
       "<text text-anchor=\"start\" x=\"7277.83\" y=\"-2525.8\" font-family=\"Times,serif\" font-size=\"14.00\">[0.21]</text>\n",
       "<text text-anchor=\"start\" x=\"7277.83\" y=\"-2510.8\" font-family=\"Times,serif\" font-size=\"14.00\">[0.21]</text>\n",
       "<text text-anchor=\"start\" x=\"7277.83\" y=\"-2495.8\" font-family=\"Times,serif\" font-size=\"14.00\">[0.17]</text>\n",
       "<text text-anchor=\"start\" x=\"7277.83\" y=\"-2480.8\" font-family=\"Times,serif\" font-size=\"14.00\">[0.17]</text>\n",
       "<text text-anchor=\"start\" x=\"7277.83\" y=\"-2465.8\" font-family=\"Times,serif\" font-size=\"14.00\">[0.23]</text>\n",
       "<text text-anchor=\"start\" x=\"7277.83\" y=\"-2450.8\" font-family=\"Times,serif\" font-size=\"14.00\">[0.23]</text>\n",
       "<text text-anchor=\"start\" x=\"7277.83\" y=\"-2435.8\" font-family=\"Times,serif\" font-size=\"14.00\">[0.22]</text>\n",
       "<text text-anchor=\"start\" x=\"7277.83\" y=\"-2420.8\" font-family=\"Times,serif\" font-size=\"14.00\">[0.21]</text>\n",
       "<text text-anchor=\"start\" x=\"7282.33\" y=\"-2405.8\" font-family=\"Times,serif\" font-size=\"14.00\">[0.2]</text>\n",
       "<text text-anchor=\"start\" x=\"7277.83\" y=\"-2390.8\" font-family=\"Times,serif\" font-size=\"14.00\">[0.17]</text>\n",
       "<text text-anchor=\"start\" x=\"7275.33\" y=\"-2375.8\" font-family=\"Times,serif\" font-size=\"14.00\">[0.21]]</text>\n",
       "</g>\n",
       "<!-- 13&#45;&gt;15 -->\n",
       "<g id=\"edge15\" class=\"edge\"><title>13&#45;&gt;15</title>\n",
       "<path fill=\"none\" stroke=\"black\" d=\"M5839.06,-2777.79C6118.01,-2726.03 6946.68,-2572.25 7214.11,-2522.63\"/>\n",
       "<polygon fill=\"black\" stroke=\"black\" points=\"7214.95,-2526.03 7224.15,-2520.77 7213.68,-2519.15 7214.95,-2526.03\"/>\n",
       "</g>\n",
       "<!-- 17 -->\n",
       "<g id=\"node18\" class=\"node\"><title>17</title>\n",
       "<polygon fill=\"#e58139\" fill-opacity=\"0.466667\" stroke=\"black\" points=\"4130.83,-1914.5 3943.83,-1914.5 3943.83,-1621.5 4130.83,-1621.5 4130.83,-1914.5\"/>\n",
       "<text text-anchor=\"start\" x=\"3951.83\" y=\"-1899.3\" font-family=\"Times,serif\" font-size=\"14.00\">mean_40_before ≤ 0.89</text>\n",
       "<text text-anchor=\"start\" x=\"3996.33\" y=\"-1884.3\" font-family=\"Times,serif\" font-size=\"14.00\">mse = 0.58</text>\n",
       "<text text-anchor=\"start\" x=\"3970.33\" y=\"-1869.3\" font-family=\"Times,serif\" font-size=\"14.00\">samples = 460462</text>\n",
       "<text text-anchor=\"start\" x=\"3983.83\" y=\"-1854.3\" font-family=\"Times,serif\" font-size=\"14.00\">value = [[0.66]</text>\n",
       "<text text-anchor=\"start\" x=\"4015.83\" y=\"-1839.3\" font-family=\"Times,serif\" font-size=\"14.00\">[0.65]</text>\n",
       "<text text-anchor=\"start\" x=\"4015.83\" y=\"-1824.3\" font-family=\"Times,serif\" font-size=\"14.00\">[0.67]</text>\n",
       "<text text-anchor=\"start\" x=\"4015.83\" y=\"-1809.3\" font-family=\"Times,serif\" font-size=\"14.00\">[0.69]</text>\n",
       "<text text-anchor=\"start\" x=\"4015.83\" y=\"-1794.3\" font-family=\"Times,serif\" font-size=\"14.00\">[0.66]</text>\n",
       "<text text-anchor=\"start\" x=\"4015.83\" y=\"-1779.3\" font-family=\"Times,serif\" font-size=\"14.00\">[0.65]</text>\n",
       "<text text-anchor=\"start\" x=\"4015.83\" y=\"-1764.3\" font-family=\"Times,serif\" font-size=\"14.00\">[0.65]</text>\n",
       "<text text-anchor=\"start\" x=\"4015.83\" y=\"-1749.3\" font-family=\"Times,serif\" font-size=\"14.00\">[0.63]</text>\n",
       "<text text-anchor=\"start\" x=\"4015.83\" y=\"-1734.3\" font-family=\"Times,serif\" font-size=\"14.00\">[0.61]</text>\n",
       "<text text-anchor=\"start\" x=\"4015.83\" y=\"-1719.3\" font-family=\"Times,serif\" font-size=\"14.00\">[0.67]</text>\n",
       "<text text-anchor=\"start\" x=\"4015.83\" y=\"-1704.3\" font-family=\"Times,serif\" font-size=\"14.00\">[0.66]</text>\n",
       "<text text-anchor=\"start\" x=\"4015.83\" y=\"-1689.3\" font-family=\"Times,serif\" font-size=\"14.00\">[0.63]</text>\n",
       "<text text-anchor=\"start\" x=\"4015.83\" y=\"-1674.3\" font-family=\"Times,serif\" font-size=\"14.00\">[0.62]</text>\n",
       "<text text-anchor=\"start\" x=\"4015.83\" y=\"-1659.3\" font-family=\"Times,serif\" font-size=\"14.00\">[0.63]</text>\n",
       "<text text-anchor=\"start\" x=\"4020.33\" y=\"-1644.3\" font-family=\"Times,serif\" font-size=\"14.00\">[0.6]</text>\n",
       "<text text-anchor=\"start\" x=\"4013.33\" y=\"-1629.3\" font-family=\"Times,serif\" font-size=\"14.00\">[0.65]]</text>\n",
       "</g>\n",
       "<!-- 16&#45;&gt;17 -->\n",
       "<g id=\"edge17\" class=\"edge\"><title>16&#45;&gt;17</title>\n",
       "<path fill=\"none\" stroke=\"black\" d=\"M2451.51,-1768C2736.05,-1768 3628.99,-1768 3933.45,-1768\"/>\n",
       "<polygon fill=\"black\" stroke=\"black\" points=\"3933.59,-1771.5 3943.59,-1768 3933.59,-1764.5 3933.59,-1771.5\"/>\n",
       "</g>\n",
       "<!-- 24 -->\n",
       "<g id=\"node25\" class=\"node\"><title>24</title>\n",
       "<polygon fill=\"#e58139\" fill-opacity=\"0.239216\" stroke=\"black\" points=\"4130.83,-1033.5 3943.83,-1033.5 3943.83,-740.5 4130.83,-740.5 4130.83,-1033.5\"/>\n",
       "<text text-anchor=\"start\" x=\"3951.83\" y=\"-1018.3\" font-family=\"Times,serif\" font-size=\"14.00\">mean_40_before ≤ 2.58</text>\n",
       "<text text-anchor=\"start\" x=\"3996.33\" y=\"-1003.3\" font-family=\"Times,serif\" font-size=\"14.00\">mse = 0.78</text>\n",
       "<text text-anchor=\"start\" x=\"3970.33\" y=\"-988.3\" font-family=\"Times,serif\" font-size=\"14.00\">samples = 162375</text>\n",
       "<text text-anchor=\"start\" x=\"3988.33\" y=\"-973.3\" font-family=\"Times,serif\" font-size=\"14.00\">value = [[1.8]</text>\n",
       "<text text-anchor=\"start\" x=\"4020.33\" y=\"-958.3\" font-family=\"Times,serif\" font-size=\"14.00\">[1.8]</text>\n",
       "<text text-anchor=\"start\" x=\"4015.83\" y=\"-943.3\" font-family=\"Times,serif\" font-size=\"14.00\">[1.82]</text>\n",
       "<text text-anchor=\"start\" x=\"4015.83\" y=\"-928.3\" font-family=\"Times,serif\" font-size=\"14.00\">[1.81]</text>\n",
       "<text text-anchor=\"start\" x=\"4015.83\" y=\"-913.3\" font-family=\"Times,serif\" font-size=\"14.00\">[1.78]</text>\n",
       "<text text-anchor=\"start\" x=\"4015.83\" y=\"-898.3\" font-family=\"Times,serif\" font-size=\"14.00\">[1.76]</text>\n",
       "<text text-anchor=\"start\" x=\"4015.83\" y=\"-883.3\" font-family=\"Times,serif\" font-size=\"14.00\">[1.76]</text>\n",
       "<text text-anchor=\"start\" x=\"4015.83\" y=\"-868.3\" font-family=\"Times,serif\" font-size=\"14.00\">[1.74]</text>\n",
       "<text text-anchor=\"start\" x=\"4015.83\" y=\"-853.3\" font-family=\"Times,serif\" font-size=\"14.00\">[1.71]</text>\n",
       "<text text-anchor=\"start\" x=\"4015.83\" y=\"-838.3\" font-family=\"Times,serif\" font-size=\"14.00\">[1.78]</text>\n",
       "<text text-anchor=\"start\" x=\"4015.83\" y=\"-823.3\" font-family=\"Times,serif\" font-size=\"14.00\">[1.76]</text>\n",
       "<text text-anchor=\"start\" x=\"4015.83\" y=\"-808.3\" font-family=\"Times,serif\" font-size=\"14.00\">[1.72]</text>\n",
       "<text text-anchor=\"start\" x=\"4015.83\" y=\"-793.3\" font-family=\"Times,serif\" font-size=\"14.00\">[1.71]</text>\n",
       "<text text-anchor=\"start\" x=\"4015.83\" y=\"-778.3\" font-family=\"Times,serif\" font-size=\"14.00\">[1.71]</text>\n",
       "<text text-anchor=\"start\" x=\"4015.83\" y=\"-763.3\" font-family=\"Times,serif\" font-size=\"14.00\">[1.69]</text>\n",
       "<text text-anchor=\"start\" x=\"4013.33\" y=\"-748.3\" font-family=\"Times,serif\" font-size=\"14.00\">[1.75]]</text>\n",
       "</g>\n",
       "<!-- 16&#45;&gt;24 -->\n",
       "<g id=\"edge24\" class=\"edge\"><title>16&#45;&gt;24</title>\n",
       "<path fill=\"none\" stroke=\"black\" d=\"M2451.51,-1721.57C2736.33,-1571.58 3630.75,-1100.58 3934.35,-940.706\"/>\n",
       "<polygon fill=\"black\" stroke=\"black\" points=\"3936.37,-943.594 3943.59,-935.838 3933.11,-937.4 3936.37,-943.594\"/>\n",
       "</g>\n",
       "<!-- 18 -->\n",
       "<g id=\"node19\" class=\"node\"><title>18</title>\n",
       "<polygon fill=\"#e58139\" fill-opacity=\"0.521569\" stroke=\"black\" points=\"5834.33,-2069.5 5656.33,-2069.5 5656.33,-1776.5 5834.33,-1776.5 5834.33,-2069.5\"/>\n",
       "<text text-anchor=\"start\" x=\"5664.33\" y=\"-2054.3\" font-family=\"Times,serif\" font-size=\"14.00\">sum_30_before ≤ 0.57</text>\n",
       "<text text-anchor=\"start\" x=\"5704.33\" y=\"-2039.3\" font-family=\"Times,serif\" font-size=\"14.00\">mse = 0.53</text>\n",
       "<text text-anchor=\"start\" x=\"5678.33\" y=\"-2024.3\" font-family=\"Times,serif\" font-size=\"14.00\">samples = 270176</text>\n",
       "<text text-anchor=\"start\" x=\"5691.83\" y=\"-2009.3\" font-family=\"Times,serif\" font-size=\"14.00\">value = [[0.47]</text>\n",
       "<text text-anchor=\"start\" x=\"5723.83\" y=\"-1994.3\" font-family=\"Times,serif\" font-size=\"14.00\">[0.47]</text>\n",
       "<text text-anchor=\"start\" x=\"5723.83\" y=\"-1979.3\" font-family=\"Times,serif\" font-size=\"14.00\">[0.49]</text>\n",
       "<text text-anchor=\"start\" x=\"5723.83\" y=\"-1964.3\" font-family=\"Times,serif\" font-size=\"14.00\">[0.49]</text>\n",
       "<text text-anchor=\"start\" x=\"5723.83\" y=\"-1949.3\" font-family=\"Times,serif\" font-size=\"14.00\">[0.46]</text>\n",
       "<text text-anchor=\"start\" x=\"5723.83\" y=\"-1934.3\" font-family=\"Times,serif\" font-size=\"14.00\">[0.45]</text>\n",
       "<text text-anchor=\"start\" x=\"5723.83\" y=\"-1919.3\" font-family=\"Times,serif\" font-size=\"14.00\">[0.46]</text>\n",
       "<text text-anchor=\"start\" x=\"5723.83\" y=\"-1904.3\" font-family=\"Times,serif\" font-size=\"14.00\">[0.44]</text>\n",
       "<text text-anchor=\"start\" x=\"5723.83\" y=\"-1889.3\" font-family=\"Times,serif\" font-size=\"14.00\">[0.42]</text>\n",
       "<text text-anchor=\"start\" x=\"5723.83\" y=\"-1874.3\" font-family=\"Times,serif\" font-size=\"14.00\">[0.48]</text>\n",
       "<text text-anchor=\"start\" x=\"5723.83\" y=\"-1859.3\" font-family=\"Times,serif\" font-size=\"14.00\">[0.46]</text>\n",
       "<text text-anchor=\"start\" x=\"5723.83\" y=\"-1844.3\" font-family=\"Times,serif\" font-size=\"14.00\">[0.43]</text>\n",
       "<text text-anchor=\"start\" x=\"5723.83\" y=\"-1829.3\" font-family=\"Times,serif\" font-size=\"14.00\">[0.42]</text>\n",
       "<text text-anchor=\"start\" x=\"5723.83\" y=\"-1814.3\" font-family=\"Times,serif\" font-size=\"14.00\">[0.43]</text>\n",
       "<text text-anchor=\"start\" x=\"5723.83\" y=\"-1799.3\" font-family=\"Times,serif\" font-size=\"14.00\">[0.41]</text>\n",
       "<text text-anchor=\"start\" x=\"5721.33\" y=\"-1784.3\" font-family=\"Times,serif\" font-size=\"14.00\">[0.46]]</text>\n",
       "</g>\n",
       "<!-- 17&#45;&gt;18 -->\n",
       "<g id=\"edge18\" class=\"edge\"><title>17&#45;&gt;18</title>\n",
       "<path fill=\"none\" stroke=\"black\" d=\"M4130.96,-1776.42C4426.17,-1803.24 5343.14,-1886.55 5646.08,-1914.07\"/>\n",
       "<polygon fill=\"black\" stroke=\"black\" points=\"5645.89,-1917.57 5656.17,-1914.99 5646.52,-1910.6 5645.89,-1917.57\"/>\n",
       "</g>\n",
       "<!-- 21 -->\n",
       "<g id=\"node22\" class=\"node\"><title>21</title>\n",
       "<polygon fill=\"#e58139\" fill-opacity=\"0.529412\" stroke=\"black\" points=\"5838.83,-1758.5 5651.83,-1758.5 5651.83,-1465.5 5838.83,-1465.5 5838.83,-1758.5\"/>\n",
       "<text text-anchor=\"start\" x=\"5659.83\" y=\"-1743.3\" font-family=\"Times,serif\" font-size=\"14.00\">mean_14_before ≤ 1.17</text>\n",
       "<text text-anchor=\"start\" x=\"5704.33\" y=\"-1728.3\" font-family=\"Times,serif\" font-size=\"14.00\">mse = 0.52</text>\n",
       "<text text-anchor=\"start\" x=\"5678.33\" y=\"-1713.3\" font-family=\"Times,serif\" font-size=\"14.00\">samples = 190286</text>\n",
       "<text text-anchor=\"start\" x=\"5691.83\" y=\"-1698.3\" font-family=\"Times,serif\" font-size=\"14.00\">value = [[0.91]</text>\n",
       "<text text-anchor=\"start\" x=\"5723.83\" y=\"-1683.3\" font-family=\"Times,serif\" font-size=\"14.00\">[0.91]</text>\n",
       "<text text-anchor=\"start\" x=\"5723.83\" y=\"-1668.3\" font-family=\"Times,serif\" font-size=\"14.00\">[0.94]</text>\n",
       "<text text-anchor=\"start\" x=\"5723.83\" y=\"-1653.3\" font-family=\"Times,serif\" font-size=\"14.00\">[0.97]</text>\n",
       "<text text-anchor=\"start\" x=\"5723.83\" y=\"-1638.3\" font-family=\"Times,serif\" font-size=\"14.00\">[0.94]</text>\n",
       "<text text-anchor=\"start\" x=\"5723.83\" y=\"-1623.3\" font-family=\"Times,serif\" font-size=\"14.00\">[0.93]</text>\n",
       "<text text-anchor=\"start\" x=\"5723.83\" y=\"-1608.3\" font-family=\"Times,serif\" font-size=\"14.00\">[0.93]</text>\n",
       "<text text-anchor=\"start\" x=\"5728.33\" y=\"-1593.3\" font-family=\"Times,serif\" font-size=\"14.00\">[0.9]</text>\n",
       "<text text-anchor=\"start\" x=\"5723.83\" y=\"-1578.3\" font-family=\"Times,serif\" font-size=\"14.00\">[0.88]</text>\n",
       "<text text-anchor=\"start\" x=\"5723.83\" y=\"-1563.3\" font-family=\"Times,serif\" font-size=\"14.00\">[0.95]</text>\n",
       "<text text-anchor=\"start\" x=\"5723.83\" y=\"-1548.3\" font-family=\"Times,serif\" font-size=\"14.00\">[0.94]</text>\n",
       "<text text-anchor=\"start\" x=\"5723.83\" y=\"-1533.3\" font-family=\"Times,serif\" font-size=\"14.00\">[0.92]</text>\n",
       "<text text-anchor=\"start\" x=\"5728.33\" y=\"-1518.3\" font-family=\"Times,serif\" font-size=\"14.00\">[0.9]</text>\n",
       "<text text-anchor=\"start\" x=\"5723.83\" y=\"-1503.3\" font-family=\"Times,serif\" font-size=\"14.00\">[0.91]</text>\n",
       "<text text-anchor=\"start\" x=\"5723.83\" y=\"-1488.3\" font-family=\"Times,serif\" font-size=\"14.00\">[0.88]</text>\n",
       "<text text-anchor=\"start\" x=\"5721.33\" y=\"-1473.3\" font-family=\"Times,serif\" font-size=\"14.00\">[0.93]]</text>\n",
       "</g>\n",
       "<!-- 17&#45;&gt;21 -->\n",
       "<g id=\"edge21\" class=\"edge\"><title>17&#45;&gt;21</title>\n",
       "<path fill=\"none\" stroke=\"black\" d=\"M4130.96,-1759.53C4424.71,-1732.67 5334.09,-1649.51 5641.55,-1621.4\"/>\n",
       "<polygon fill=\"black\" stroke=\"black\" points=\"5642.15,-1624.86 5651.79,-1620.46 5641.51,-1617.89 5642.15,-1624.86\"/>\n",
       "</g>\n",
       "<!-- 19 -->\n",
       "<g id=\"node20\" class=\"node\"><title>19</title>\n",
       "<polygon fill=\"#e58139\" fill-opacity=\"0.517647\" stroke=\"black\" points=\"7374.33,-2350 7224.33,-2350 7224.33,-2072 7374.33,-2072 7374.33,-2350\"/>\n",
       "<text text-anchor=\"start\" x=\"7258.33\" y=\"-2334.8\" font-family=\"Times,serif\" font-size=\"14.00\">mse = 0.54</text>\n",
       "<text text-anchor=\"start\" x=\"7232.33\" y=\"-2319.8\" font-family=\"Times,serif\" font-size=\"14.00\">samples = 134629</text>\n",
       "<text text-anchor=\"start\" x=\"7245.83\" y=\"-2304.8\" font-family=\"Times,serif\" font-size=\"14.00\">value = [[0.37]</text>\n",
       "<text text-anchor=\"start\" x=\"7277.83\" y=\"-2289.8\" font-family=\"Times,serif\" font-size=\"14.00\">[0.37]</text>\n",
       "<text text-anchor=\"start\" x=\"7277.83\" y=\"-2274.8\" font-family=\"Times,serif\" font-size=\"14.00\">[0.39]</text>\n",
       "<text text-anchor=\"start\" x=\"7277.83\" y=\"-2259.8\" font-family=\"Times,serif\" font-size=\"14.00\">[0.38]</text>\n",
       "<text text-anchor=\"start\" x=\"7277.83\" y=\"-2244.8\" font-family=\"Times,serif\" font-size=\"14.00\">[0.34]</text>\n",
       "<text text-anchor=\"start\" x=\"7277.83\" y=\"-2229.8\" font-family=\"Times,serif\" font-size=\"14.00\">[0.32]</text>\n",
       "<text text-anchor=\"start\" x=\"7277.83\" y=\"-2214.8\" font-family=\"Times,serif\" font-size=\"14.00\">[0.34]</text>\n",
       "<text text-anchor=\"start\" x=\"7277.83\" y=\"-2199.8\" font-family=\"Times,serif\" font-size=\"14.00\">[0.33]</text>\n",
       "<text text-anchor=\"start\" x=\"7277.83\" y=\"-2184.8\" font-family=\"Times,serif\" font-size=\"14.00\">[0.32]</text>\n",
       "<text text-anchor=\"start\" x=\"7277.83\" y=\"-2169.8\" font-family=\"Times,serif\" font-size=\"14.00\">[0.37]</text>\n",
       "<text text-anchor=\"start\" x=\"7277.83\" y=\"-2154.8\" font-family=\"Times,serif\" font-size=\"14.00\">[0.35]</text>\n",
       "<text text-anchor=\"start\" x=\"7277.83\" y=\"-2139.8\" font-family=\"Times,serif\" font-size=\"14.00\">[0.31]</text>\n",
       "<text text-anchor=\"start\" x=\"7277.83\" y=\"-2124.8\" font-family=\"Times,serif\" font-size=\"14.00\">[0.29]</text>\n",
       "<text text-anchor=\"start\" x=\"7282.33\" y=\"-2109.8\" font-family=\"Times,serif\" font-size=\"14.00\">[0.3]</text>\n",
       "<text text-anchor=\"start\" x=\"7277.83\" y=\"-2094.8\" font-family=\"Times,serif\" font-size=\"14.00\">[0.29]</text>\n",
       "<text text-anchor=\"start\" x=\"7275.33\" y=\"-2079.8\" font-family=\"Times,serif\" font-size=\"14.00\">[0.35]]</text>\n",
       "</g>\n",
       "<!-- 18&#45;&gt;19 -->\n",
       "<g id=\"edge19\" class=\"edge\"><title>18&#45;&gt;19</title>\n",
       "<path fill=\"none\" stroke=\"black\" d=\"M5834.5,-1939.36C6108.78,-1990.26 6944.66,-2145.37 7213.84,-2195.32\"/>\n",
       "<polygon fill=\"black\" stroke=\"black\" points=\"7213.47,-2198.81 7223.94,-2197.2 7214.75,-2191.93 7213.47,-2198.81\"/>\n",
       "</g>\n",
       "<!-- 20 -->\n",
       "<g id=\"node21\" class=\"node\"><title>20</title>\n",
       "<polygon fill=\"#e58139\" fill-opacity=\"0.552941\" stroke=\"black\" points=\"7374.33,-2054 7224.33,-2054 7224.33,-1776 7374.33,-1776 7374.33,-2054\"/>\n",
       "<text text-anchor=\"start\" x=\"7262.83\" y=\"-2038.8\" font-family=\"Times,serif\" font-size=\"14.00\">mse = 0.5</text>\n",
       "<text text-anchor=\"start\" x=\"7232.33\" y=\"-2023.8\" font-family=\"Times,serif\" font-size=\"14.00\">samples = 135547</text>\n",
       "<text text-anchor=\"start\" x=\"7245.83\" y=\"-2008.8\" font-family=\"Times,serif\" font-size=\"14.00\">value = [[0.58]</text>\n",
       "<text text-anchor=\"start\" x=\"7277.83\" y=\"-1993.8\" font-family=\"Times,serif\" font-size=\"14.00\">[0.57]</text>\n",
       "<text text-anchor=\"start\" x=\"7277.83\" y=\"-1978.8\" font-family=\"Times,serif\" font-size=\"14.00\">[0.58]</text>\n",
       "<text text-anchor=\"start\" x=\"7282.33\" y=\"-1963.8\" font-family=\"Times,serif\" font-size=\"14.00\">[0.6]</text>\n",
       "<text text-anchor=\"start\" x=\"7277.83\" y=\"-1948.8\" font-family=\"Times,serif\" font-size=\"14.00\">[0.57]</text>\n",
       "<text text-anchor=\"start\" x=\"7277.83\" y=\"-1933.8\" font-family=\"Times,serif\" font-size=\"14.00\">[0.57]</text>\n",
       "<text text-anchor=\"start\" x=\"7277.83\" y=\"-1918.8\" font-family=\"Times,serif\" font-size=\"14.00\">[0.58]</text>\n",
       "<text text-anchor=\"start\" x=\"7277.83\" y=\"-1903.8\" font-family=\"Times,serif\" font-size=\"14.00\">[0.55]</text>\n",
       "<text text-anchor=\"start\" x=\"7277.83\" y=\"-1888.8\" font-family=\"Times,serif\" font-size=\"14.00\">[0.53]</text>\n",
       "<text text-anchor=\"start\" x=\"7277.83\" y=\"-1873.8\" font-family=\"Times,serif\" font-size=\"14.00\">[0.58]</text>\n",
       "<text text-anchor=\"start\" x=\"7277.83\" y=\"-1858.8\" font-family=\"Times,serif\" font-size=\"14.00\">[0.56]</text>\n",
       "<text text-anchor=\"start\" x=\"7277.83\" y=\"-1843.8\" font-family=\"Times,serif\" font-size=\"14.00\">[0.55]</text>\n",
       "<text text-anchor=\"start\" x=\"7277.83\" y=\"-1828.8\" font-family=\"Times,serif\" font-size=\"14.00\">[0.54]</text>\n",
       "<text text-anchor=\"start\" x=\"7277.83\" y=\"-1813.8\" font-family=\"Times,serif\" font-size=\"14.00\">[0.55]</text>\n",
       "<text text-anchor=\"start\" x=\"7277.83\" y=\"-1798.8\" font-family=\"Times,serif\" font-size=\"14.00\">[0.52]</text>\n",
       "<text text-anchor=\"start\" x=\"7275.33\" y=\"-1783.8\" font-family=\"Times,serif\" font-size=\"14.00\">[0.56]]</text>\n",
       "</g>\n",
       "<!-- 18&#45;&gt;20 -->\n",
       "<g id=\"edge20\" class=\"edge\"><title>18&#45;&gt;20</title>\n",
       "<path fill=\"none\" stroke=\"black\" d=\"M5834.5,-1922.55C6108.78,-1921.13 6944.66,-1916.82 7213.84,-1915.44\"/>\n",
       "<polygon fill=\"black\" stroke=\"black\" points=\"7213.96,-1918.94 7223.94,-1915.38 7213.93,-1911.94 7213.96,-1918.94\"/>\n",
       "</g>\n",
       "<!-- 22 -->\n",
       "<g id=\"node23\" class=\"node\"><title>22</title>\n",
       "<polygon fill=\"#e58139\" fill-opacity=\"0.537255\" stroke=\"black\" points=\"7374.33,-1758 7224.33,-1758 7224.33,-1480 7374.33,-1480 7374.33,-1758\"/>\n",
       "<text text-anchor=\"start\" x=\"7258.33\" y=\"-1742.8\" font-family=\"Times,serif\" font-size=\"14.00\">mse = 0.52</text>\n",
       "<text text-anchor=\"start\" x=\"7232.33\" y=\"-1727.8\" font-family=\"Times,serif\" font-size=\"14.00\">samples = 102604</text>\n",
       "<text text-anchor=\"start\" x=\"7245.83\" y=\"-1712.8\" font-family=\"Times,serif\" font-size=\"14.00\">value = [[0.77]</text>\n",
       "<text text-anchor=\"start\" x=\"7277.83\" y=\"-1697.8\" font-family=\"Times,serif\" font-size=\"14.00\">[0.77]</text>\n",
       "<text text-anchor=\"start\" x=\"7282.33\" y=\"-1682.8\" font-family=\"Times,serif\" font-size=\"14.00\">[0.8]</text>\n",
       "<text text-anchor=\"start\" x=\"7277.83\" y=\"-1667.8\" font-family=\"Times,serif\" font-size=\"14.00\">[0.85]</text>\n",
       "<text text-anchor=\"start\" x=\"7277.83\" y=\"-1652.8\" font-family=\"Times,serif\" font-size=\"14.00\">[0.82]</text>\n",
       "<text text-anchor=\"start\" x=\"7277.83\" y=\"-1637.8\" font-family=\"Times,serif\" font-size=\"14.00\">[0.81]</text>\n",
       "<text text-anchor=\"start\" x=\"7277.83\" y=\"-1622.8\" font-family=\"Times,serif\" font-size=\"14.00\">[0.81]</text>\n",
       "<text text-anchor=\"start\" x=\"7277.83\" y=\"-1607.8\" font-family=\"Times,serif\" font-size=\"14.00\">[0.78]</text>\n",
       "<text text-anchor=\"start\" x=\"7277.83\" y=\"-1592.8\" font-family=\"Times,serif\" font-size=\"14.00\">[0.76]</text>\n",
       "<text text-anchor=\"start\" x=\"7277.83\" y=\"-1577.8\" font-family=\"Times,serif\" font-size=\"14.00\">[0.83]</text>\n",
       "<text text-anchor=\"start\" x=\"7277.83\" y=\"-1562.8\" font-family=\"Times,serif\" font-size=\"14.00\">[0.83]</text>\n",
       "<text text-anchor=\"start\" x=\"7277.83\" y=\"-1547.8\" font-family=\"Times,serif\" font-size=\"14.00\">[0.81]</text>\n",
       "<text text-anchor=\"start\" x=\"7277.83\" y=\"-1532.8\" font-family=\"Times,serif\" font-size=\"14.00\">[0.79]</text>\n",
       "<text text-anchor=\"start\" x=\"7277.83\" y=\"-1517.8\" font-family=\"Times,serif\" font-size=\"14.00\">[0.79]</text>\n",
       "<text text-anchor=\"start\" x=\"7277.83\" y=\"-1502.8\" font-family=\"Times,serif\" font-size=\"14.00\">[0.76]</text>\n",
       "<text text-anchor=\"start\" x=\"7275.33\" y=\"-1487.8\" font-family=\"Times,serif\" font-size=\"14.00\">[0.81]]</text>\n",
       "</g>\n",
       "<!-- 21&#45;&gt;22 -->\n",
       "<g id=\"edge22\" class=\"edge\"><title>21&#45;&gt;22</title>\n",
       "<path fill=\"none\" stroke=\"black\" d=\"M5839.06,-1612.42C6118.01,-1613.68 6946.68,-1617.41 7214.11,-1618.62\"/>\n",
       "<polygon fill=\"black\" stroke=\"black\" points=\"7214.13,-1622.12 7224.15,-1618.67 7214.16,-1615.12 7214.13,-1622.12\"/>\n",
       "</g>\n",
       "<!-- 23 -->\n",
       "<g id=\"node24\" class=\"node\"><title>23</title>\n",
       "<polygon fill=\"#e58139\" fill-opacity=\"0.564706\" stroke=\"black\" points=\"7369.83,-1462 7228.83,-1462 7228.83,-1184 7369.83,-1184 7369.83,-1462\"/>\n",
       "<text text-anchor=\"start\" x=\"7258.33\" y=\"-1446.8\" font-family=\"Times,serif\" font-size=\"14.00\">mse = 0.49</text>\n",
       "<text text-anchor=\"start\" x=\"7236.83\" y=\"-1431.8\" font-family=\"Times,serif\" font-size=\"14.00\">samples = 87682</text>\n",
       "<text text-anchor=\"start\" x=\"7245.83\" y=\"-1416.8\" font-family=\"Times,serif\" font-size=\"14.00\">value = [[1.08]</text>\n",
       "<text text-anchor=\"start\" x=\"7277.83\" y=\"-1401.8\" font-family=\"Times,serif\" font-size=\"14.00\">[1.07]</text>\n",
       "<text text-anchor=\"start\" x=\"7277.83\" y=\"-1386.8\" font-family=\"Times,serif\" font-size=\"14.00\">[1.09]</text>\n",
       "<text text-anchor=\"start\" x=\"7277.83\" y=\"-1371.8\" font-family=\"Times,serif\" font-size=\"14.00\">[1.11]</text>\n",
       "<text text-anchor=\"start\" x=\"7277.83\" y=\"-1356.8\" font-family=\"Times,serif\" font-size=\"14.00\">[1.08]</text>\n",
       "<text text-anchor=\"start\" x=\"7277.83\" y=\"-1341.8\" font-family=\"Times,serif\" font-size=\"14.00\">[1.07]</text>\n",
       "<text text-anchor=\"start\" x=\"7277.83\" y=\"-1326.8\" font-family=\"Times,serif\" font-size=\"14.00\">[1.07]</text>\n",
       "<text text-anchor=\"start\" x=\"7277.83\" y=\"-1311.8\" font-family=\"Times,serif\" font-size=\"14.00\">[1.05]</text>\n",
       "<text text-anchor=\"start\" x=\"7277.83\" y=\"-1296.8\" font-family=\"Times,serif\" font-size=\"14.00\">[1.03]</text>\n",
       "<text text-anchor=\"start\" x=\"7282.33\" y=\"-1281.8\" font-family=\"Times,serif\" font-size=\"14.00\">[1.1]</text>\n",
       "<text text-anchor=\"start\" x=\"7277.83\" y=\"-1266.8\" font-family=\"Times,serif\" font-size=\"14.00\">[1.08]</text>\n",
       "<text text-anchor=\"start\" x=\"7277.83\" y=\"-1251.8\" font-family=\"Times,serif\" font-size=\"14.00\">[1.06]</text>\n",
       "<text text-anchor=\"start\" x=\"7277.83\" y=\"-1236.8\" font-family=\"Times,serif\" font-size=\"14.00\">[1.04]</text>\n",
       "<text text-anchor=\"start\" x=\"7277.83\" y=\"-1221.8\" font-family=\"Times,serif\" font-size=\"14.00\">[1.04]</text>\n",
       "<text text-anchor=\"start\" x=\"7277.83\" y=\"-1206.8\" font-family=\"Times,serif\" font-size=\"14.00\">[1.02]</text>\n",
       "<text text-anchor=\"start\" x=\"7275.33\" y=\"-1191.8\" font-family=\"Times,serif\" font-size=\"14.00\">[1.08]]</text>\n",
       "</g>\n",
       "<!-- 21&#45;&gt;23 -->\n",
       "<g id=\"edge23\" class=\"edge\"><title>21&#45;&gt;23</title>\n",
       "<path fill=\"none\" stroke=\"black\" d=\"M5839.06,-1594.73C6119.62,-1542.49 6956.28,-1386.69 7218.69,-1337.83\"/>\n",
       "<polygon fill=\"black\" stroke=\"black\" points=\"7219.34,-1341.27 7228.53,-1336 7218.06,-1334.39 7219.34,-1341.27\"/>\n",
       "</g>\n",
       "<!-- 25 -->\n",
       "<g id=\"node26\" class=\"node\"><title>25</title>\n",
       "<polygon fill=\"#e58139\" fill-opacity=\"0.450980\" stroke=\"black\" points=\"5834.33,-1033.5 5656.33,-1033.5 5656.33,-740.5 5834.33,-740.5 5834.33,-1033.5\"/>\n",
       "<text text-anchor=\"start\" x=\"5664.33\" y=\"-1018.3\" font-family=\"Times,serif\" font-size=\"14.00\">sum_40_before ≤ 1.98</text>\n",
       "<text text-anchor=\"start\" x=\"5704.33\" y=\"-1003.3\" font-family=\"Times,serif\" font-size=\"14.00\">mse = 0.59</text>\n",
       "<text text-anchor=\"start\" x=\"5678.33\" y=\"-988.3\" font-family=\"Times,serif\" font-size=\"14.00\">samples = 125281</text>\n",
       "<text text-anchor=\"start\" x=\"5691.83\" y=\"-973.3\" font-family=\"Times,serif\" font-size=\"14.00\">value = [[1.58]</text>\n",
       "<text text-anchor=\"start\" x=\"5723.83\" y=\"-958.3\" font-family=\"Times,serif\" font-size=\"14.00\">[1.57]</text>\n",
       "<text text-anchor=\"start\" x=\"5723.83\" y=\"-943.3\" font-family=\"Times,serif\" font-size=\"14.00\">[1.59]</text>\n",
       "<text text-anchor=\"start\" x=\"5723.83\" y=\"-928.3\" font-family=\"Times,serif\" font-size=\"14.00\">[1.58]</text>\n",
       "<text text-anchor=\"start\" x=\"5723.83\" y=\"-913.3\" font-family=\"Times,serif\" font-size=\"14.00\">[1.55]</text>\n",
       "<text text-anchor=\"start\" x=\"5723.83\" y=\"-898.3\" font-family=\"Times,serif\" font-size=\"14.00\">[1.53]</text>\n",
       "<text text-anchor=\"start\" x=\"5723.83\" y=\"-883.3\" font-family=\"Times,serif\" font-size=\"14.00\">[1.53]</text>\n",
       "<text text-anchor=\"start\" x=\"5723.83\" y=\"-868.3\" font-family=\"Times,serif\" font-size=\"14.00\">[1.51]</text>\n",
       "<text text-anchor=\"start\" x=\"5723.83\" y=\"-853.3\" font-family=\"Times,serif\" font-size=\"14.00\">[1.48]</text>\n",
       "<text text-anchor=\"start\" x=\"5723.83\" y=\"-838.3\" font-family=\"Times,serif\" font-size=\"14.00\">[1.55]</text>\n",
       "<text text-anchor=\"start\" x=\"5723.83\" y=\"-823.3\" font-family=\"Times,serif\" font-size=\"14.00\">[1.52]</text>\n",
       "<text text-anchor=\"start\" x=\"5723.83\" y=\"-808.3\" font-family=\"Times,serif\" font-size=\"14.00\">[1.49]</text>\n",
       "<text text-anchor=\"start\" x=\"5723.83\" y=\"-793.3\" font-family=\"Times,serif\" font-size=\"14.00\">[1.47]</text>\n",
       "<text text-anchor=\"start\" x=\"5723.83\" y=\"-778.3\" font-family=\"Times,serif\" font-size=\"14.00\">[1.48]</text>\n",
       "<text text-anchor=\"start\" x=\"5723.83\" y=\"-763.3\" font-family=\"Times,serif\" font-size=\"14.00\">[1.46]</text>\n",
       "<text text-anchor=\"start\" x=\"5721.33\" y=\"-748.3\" font-family=\"Times,serif\" font-size=\"14.00\">[1.52]]</text>\n",
       "</g>\n",
       "<!-- 24&#45;&gt;25 -->\n",
       "<g id=\"edge25\" class=\"edge\"><title>24&#45;&gt;25</title>\n",
       "<path fill=\"none\" stroke=\"black\" d=\"M4130.96,-887C4426.17,-887 5343.14,-887 5646.08,-887\"/>\n",
       "<polygon fill=\"black\" stroke=\"black\" points=\"5646.17,-890.5 5656.17,-887 5646.17,-883.5 5646.17,-890.5\"/>\n",
       "</g>\n",
       "<!-- 28 -->\n",
       "<g id=\"node29\" class=\"node\"><title>28</title>\n",
       "<polygon fill=\"#e58139\" fill-opacity=\"0.384314\" stroke=\"black\" points=\"5834.33,-581.5 5656.33,-581.5 5656.33,-288.5 5834.33,-288.5 5834.33,-581.5\"/>\n",
       "<text text-anchor=\"start\" x=\"5664.33\" y=\"-566.3\" font-family=\"Times,serif\" font-size=\"14.00\">mean_40_before ≤ 3.4</text>\n",
       "<text text-anchor=\"start\" x=\"5704.33\" y=\"-551.3\" font-family=\"Times,serif\" font-size=\"14.00\">mse = 0.65</text>\n",
       "<text text-anchor=\"start\" x=\"5682.83\" y=\"-536.3\" font-family=\"Times,serif\" font-size=\"14.00\">samples = 37094</text>\n",
       "<text text-anchor=\"start\" x=\"5691.83\" y=\"-521.3\" font-family=\"Times,serif\" font-size=\"14.00\">value = [[2.55]</text>\n",
       "<text text-anchor=\"start\" x=\"5723.83\" y=\"-506.3\" font-family=\"Times,serif\" font-size=\"14.00\">[2.54]</text>\n",
       "<text text-anchor=\"start\" x=\"5723.83\" y=\"-491.3\" font-family=\"Times,serif\" font-size=\"14.00\">[2.57]</text>\n",
       "<text text-anchor=\"start\" x=\"5723.83\" y=\"-476.3\" font-family=\"Times,serif\" font-size=\"14.00\">[2.58]</text>\n",
       "<text text-anchor=\"start\" x=\"5723.83\" y=\"-461.3\" font-family=\"Times,serif\" font-size=\"14.00\">[2.54]</text>\n",
       "<text text-anchor=\"start\" x=\"5723.83\" y=\"-446.3\" font-family=\"Times,serif\" font-size=\"14.00\">[2.53]</text>\n",
       "<text text-anchor=\"start\" x=\"5723.83\" y=\"-431.3\" font-family=\"Times,serif\" font-size=\"14.00\">[2.53]</text>\n",
       "<text text-anchor=\"start\" x=\"5723.83\" y=\"-416.3\" font-family=\"Times,serif\" font-size=\"14.00\">[2.52]</text>\n",
       "<text text-anchor=\"start\" x=\"5723.83\" y=\"-401.3\" font-family=\"Times,serif\" font-size=\"14.00\">[2.48]</text>\n",
       "<text text-anchor=\"start\" x=\"5723.83\" y=\"-386.3\" font-family=\"Times,serif\" font-size=\"14.00\">[2.56]</text>\n",
       "<text text-anchor=\"start\" x=\"5723.83\" y=\"-371.3\" font-family=\"Times,serif\" font-size=\"14.00\">[2.54]</text>\n",
       "<text text-anchor=\"start\" x=\"5728.33\" y=\"-356.3\" font-family=\"Times,serif\" font-size=\"14.00\">[2.5]</text>\n",
       "<text text-anchor=\"start\" x=\"5723.83\" y=\"-341.3\" font-family=\"Times,serif\" font-size=\"14.00\">[2.49]</text>\n",
       "<text text-anchor=\"start\" x=\"5723.83\" y=\"-326.3\" font-family=\"Times,serif\" font-size=\"14.00\">[2.51]</text>\n",
       "<text text-anchor=\"start\" x=\"5723.83\" y=\"-311.3\" font-family=\"Times,serif\" font-size=\"14.00\">[2.47]</text>\n",
       "<text text-anchor=\"start\" x=\"5721.33\" y=\"-296.3\" font-family=\"Times,serif\" font-size=\"14.00\">[2.52]]</text>\n",
       "</g>\n",
       "<!-- 24&#45;&gt;28 -->\n",
       "<g id=\"edge28\" class=\"edge\"><title>24&#45;&gt;28</title>\n",
       "<path fill=\"none\" stroke=\"black\" d=\"M4130.96,-862.458C4426.17,-784.245 5343.14,-541.295 5646.08,-461.031\"/>\n",
       "<polygon fill=\"black\" stroke=\"black\" points=\"5647.4,-464.304 5656.17,-458.36 5645.6,-457.538 5647.4,-464.304\"/>\n",
       "</g>\n",
       "<!-- 26 -->\n",
       "<g id=\"node27\" class=\"node\"><title>26</title>\n",
       "<polygon fill=\"#e58139\" fill-opacity=\"0.454902\" stroke=\"black\" points=\"7369.83,-1166 7228.83,-1166 7228.83,-888 7369.83,-888 7369.83,-1166\"/>\n",
       "<text text-anchor=\"start\" x=\"7258.33\" y=\"-1150.8\" font-family=\"Times,serif\" font-size=\"14.00\">mse = 0.59</text>\n",
       "<text text-anchor=\"start\" x=\"7236.83\" y=\"-1135.8\" font-family=\"Times,serif\" font-size=\"14.00\">samples = 73473</text>\n",
       "<text text-anchor=\"start\" x=\"7245.83\" y=\"-1120.8\" font-family=\"Times,serif\" font-size=\"14.00\">value = [[1.43]</text>\n",
       "<text text-anchor=\"start\" x=\"7277.83\" y=\"-1105.8\" font-family=\"Times,serif\" font-size=\"14.00\">[1.42]</text>\n",
       "<text text-anchor=\"start\" x=\"7277.83\" y=\"-1090.8\" font-family=\"Times,serif\" font-size=\"14.00\">[1.44]</text>\n",
       "<text text-anchor=\"start\" x=\"7277.83\" y=\"-1075.8\" font-family=\"Times,serif\" font-size=\"14.00\">[1.41]</text>\n",
       "<text text-anchor=\"start\" x=\"7277.83\" y=\"-1060.8\" font-family=\"Times,serif\" font-size=\"14.00\">[1.38]</text>\n",
       "<text text-anchor=\"start\" x=\"7277.83\" y=\"-1045.8\" font-family=\"Times,serif\" font-size=\"14.00\">[1.36]</text>\n",
       "<text text-anchor=\"start\" x=\"7277.83\" y=\"-1030.8\" font-family=\"Times,serif\" font-size=\"14.00\">[1.36]</text>\n",
       "<text text-anchor=\"start\" x=\"7277.83\" y=\"-1015.8\" font-family=\"Times,serif\" font-size=\"14.00\">[1.34]</text>\n",
       "<text text-anchor=\"start\" x=\"7277.83\" y=\"-1000.8\" font-family=\"Times,serif\" font-size=\"14.00\">[1.32]</text>\n",
       "<text text-anchor=\"start\" x=\"7277.83\" y=\"-985.8\" font-family=\"Times,serif\" font-size=\"14.00\">[1.38]</text>\n",
       "<text text-anchor=\"start\" x=\"7277.83\" y=\"-970.8\" font-family=\"Times,serif\" font-size=\"14.00\">[1.34]</text>\n",
       "<text text-anchor=\"start\" x=\"7282.33\" y=\"-955.8\" font-family=\"Times,serif\" font-size=\"14.00\">[1.3]</text>\n",
       "<text text-anchor=\"start\" x=\"7277.83\" y=\"-940.8\" font-family=\"Times,serif\" font-size=\"14.00\">[1.29]</text>\n",
       "<text text-anchor=\"start\" x=\"7282.33\" y=\"-925.8\" font-family=\"Times,serif\" font-size=\"14.00\">[1.3]</text>\n",
       "<text text-anchor=\"start\" x=\"7277.83\" y=\"-910.8\" font-family=\"Times,serif\" font-size=\"14.00\">[1.28]</text>\n",
       "<text text-anchor=\"start\" x=\"7275.33\" y=\"-895.8\" font-family=\"Times,serif\" font-size=\"14.00\">[1.34]]</text>\n",
       "</g>\n",
       "<!-- 25&#45;&gt;26 -->\n",
       "<g id=\"edge26\" class=\"edge\"><title>25&#45;&gt;26</title>\n",
       "<path fill=\"none\" stroke=\"black\" d=\"M5834.5,-894.954C6110.39,-919.84 6954.47,-995.981 7218.52,-1019.8\"/>\n",
       "<polygon fill=\"black\" stroke=\"black\" points=\"7218.51,-1023.31 7228.78,-1020.73 7219.14,-1016.34 7218.51,-1023.31\"/>\n",
       "</g>\n",
       "<!-- 27 -->\n",
       "<g id=\"node28\" class=\"node\"><title>27</title>\n",
       "<polygon fill=\"#e58139\" fill-opacity=\"0.560784\" stroke=\"black\" points=\"7369.83,-870 7228.83,-870 7228.83,-592 7369.83,-592 7369.83,-870\"/>\n",
       "<text text-anchor=\"start\" x=\"7262.83\" y=\"-854.8\" font-family=\"Times,serif\" font-size=\"14.00\">mse = 0.5</text>\n",
       "<text text-anchor=\"start\" x=\"7236.83\" y=\"-839.8\" font-family=\"Times,serif\" font-size=\"14.00\">samples = 51808</text>\n",
       "<text text-anchor=\"start\" x=\"7250.33\" y=\"-824.8\" font-family=\"Times,serif\" font-size=\"14.00\">value = [[1.8]</text>\n",
       "<text text-anchor=\"start\" x=\"7277.83\" y=\"-809.8\" font-family=\"Times,serif\" font-size=\"14.00\">[1.79]</text>\n",
       "<text text-anchor=\"start\" x=\"7277.83\" y=\"-794.8\" font-family=\"Times,serif\" font-size=\"14.00\">[1.81]</text>\n",
       "<text text-anchor=\"start\" x=\"7277.83\" y=\"-779.8\" font-family=\"Times,serif\" font-size=\"14.00\">[1.83]</text>\n",
       "<text text-anchor=\"start\" x=\"7277.83\" y=\"-764.8\" font-family=\"Times,serif\" font-size=\"14.00\">[1.79]</text>\n",
       "<text text-anchor=\"start\" x=\"7277.83\" y=\"-749.8\" font-family=\"Times,serif\" font-size=\"14.00\">[1.77]</text>\n",
       "<text text-anchor=\"start\" x=\"7277.83\" y=\"-734.8\" font-family=\"Times,serif\" font-size=\"14.00\">[1.78]</text>\n",
       "<text text-anchor=\"start\" x=\"7277.83\" y=\"-719.8\" font-family=\"Times,serif\" font-size=\"14.00\">[1.75]</text>\n",
       "<text text-anchor=\"start\" x=\"7277.83\" y=\"-704.8\" font-family=\"Times,serif\" font-size=\"14.00\">[1.72]</text>\n",
       "<text text-anchor=\"start\" x=\"7282.33\" y=\"-689.8\" font-family=\"Times,serif\" font-size=\"14.00\">[1.8]</text>\n",
       "<text text-anchor=\"start\" x=\"7277.83\" y=\"-674.8\" font-family=\"Times,serif\" font-size=\"14.00\">[1.78]</text>\n",
       "<text text-anchor=\"start\" x=\"7277.83\" y=\"-659.8\" font-family=\"Times,serif\" font-size=\"14.00\">[1.75]</text>\n",
       "<text text-anchor=\"start\" x=\"7277.83\" y=\"-644.8\" font-family=\"Times,serif\" font-size=\"14.00\">[1.74]</text>\n",
       "<text text-anchor=\"start\" x=\"7277.83\" y=\"-629.8\" font-family=\"Times,serif\" font-size=\"14.00\">[1.74]</text>\n",
       "<text text-anchor=\"start\" x=\"7277.83\" y=\"-614.8\" font-family=\"Times,serif\" font-size=\"14.00\">[1.71]</text>\n",
       "<text text-anchor=\"start\" x=\"7275.33\" y=\"-599.8\" font-family=\"Times,serif\" font-size=\"14.00\">[1.76]]</text>\n",
       "</g>\n",
       "<!-- 25&#45;&gt;27 -->\n",
       "<g id=\"edge27\" class=\"edge\"><title>25&#45;&gt;27</title>\n",
       "<path fill=\"none\" stroke=\"black\" d=\"M5834.5,-878.138C6110.39,-850.407 6954.47,-765.564 7218.52,-739.023\"/>\n",
       "<polygon fill=\"black\" stroke=\"black\" points=\"7219.19,-742.473 7228.78,-737.991 7218.48,-735.508 7219.19,-742.473\"/>\n",
       "</g>\n",
       "<!-- 29 -->\n",
       "<g id=\"node30\" class=\"node\"><title>29</title>\n",
       "<polygon fill=\"#e58139\" fill-opacity=\"0.560784\" stroke=\"black\" points=\"7369.83,-574 7228.83,-574 7228.83,-296 7369.83,-296 7369.83,-574\"/>\n",
       "<text text-anchor=\"start\" x=\"7262.83\" y=\"-558.8\" font-family=\"Times,serif\" font-size=\"14.00\">mse = 0.5</text>\n",
       "<text text-anchor=\"start\" x=\"7236.83\" y=\"-543.8\" font-family=\"Times,serif\" font-size=\"14.00\">samples = 27383</text>\n",
       "<text text-anchor=\"start\" x=\"7245.83\" y=\"-528.8\" font-family=\"Times,serif\" font-size=\"14.00\">value = [[2.33]</text>\n",
       "<text text-anchor=\"start\" x=\"7277.83\" y=\"-513.8\" font-family=\"Times,serif\" font-size=\"14.00\">[2.32]</text>\n",
       "<text text-anchor=\"start\" x=\"7277.83\" y=\"-498.8\" font-family=\"Times,serif\" font-size=\"14.00\">[2.35]</text>\n",
       "<text text-anchor=\"start\" x=\"7277.83\" y=\"-483.8\" font-family=\"Times,serif\" font-size=\"14.00\">[2.36]</text>\n",
       "<text text-anchor=\"start\" x=\"7277.83\" y=\"-468.8\" font-family=\"Times,serif\" font-size=\"14.00\">[2.32]</text>\n",
       "<text text-anchor=\"start\" x=\"7277.83\" y=\"-453.8\" font-family=\"Times,serif\" font-size=\"14.00\">[2.31]</text>\n",
       "<text text-anchor=\"start\" x=\"7277.83\" y=\"-438.8\" font-family=\"Times,serif\" font-size=\"14.00\">[2.31]</text>\n",
       "<text text-anchor=\"start\" x=\"7277.83\" y=\"-423.8\" font-family=\"Times,serif\" font-size=\"14.00\">[2.29]</text>\n",
       "<text text-anchor=\"start\" x=\"7277.83\" y=\"-408.8\" font-family=\"Times,serif\" font-size=\"14.00\">[2.26]</text>\n",
       "<text text-anchor=\"start\" x=\"7277.83\" y=\"-393.8\" font-family=\"Times,serif\" font-size=\"14.00\">[2.33]</text>\n",
       "<text text-anchor=\"start\" x=\"7277.83\" y=\"-378.8\" font-family=\"Times,serif\" font-size=\"14.00\">[2.32]</text>\n",
       "<text text-anchor=\"start\" x=\"7277.83\" y=\"-363.8\" font-family=\"Times,serif\" font-size=\"14.00\">[2.28]</text>\n",
       "<text text-anchor=\"start\" x=\"7277.83\" y=\"-348.8\" font-family=\"Times,serif\" font-size=\"14.00\">[2.27]</text>\n",
       "<text text-anchor=\"start\" x=\"7277.83\" y=\"-333.8\" font-family=\"Times,serif\" font-size=\"14.00\">[2.29]</text>\n",
       "<text text-anchor=\"start\" x=\"7277.83\" y=\"-318.8\" font-family=\"Times,serif\" font-size=\"14.00\">[2.25]</text>\n",
       "<text text-anchor=\"start\" x=\"7275.33\" y=\"-303.8\" font-family=\"Times,serif\" font-size=\"14.00\">[2.31]]</text>\n",
       "</g>\n",
       "<!-- 28&#45;&gt;29 -->\n",
       "<g id=\"edge29\" class=\"edge\"><title>28&#45;&gt;29</title>\n",
       "<path fill=\"none\" stroke=\"black\" d=\"M5834.5,-435C6110.39,-435 6954.47,-435 7218.52,-435\"/>\n",
       "<polygon fill=\"black\" stroke=\"black\" points=\"7218.78,-438.5 7228.78,-435 7218.78,-431.5 7218.78,-438.5\"/>\n",
       "</g>\n",
       "<!-- 30 -->\n",
       "<g id=\"node31\" class=\"node\"><title>30</title>\n",
       "<polygon fill=\"#e58139\" fill-opacity=\"0.478431\" stroke=\"black\" points=\"7365.33,-278 7233.33,-278 7233.33,-0 7365.33,-0 7365.33,-278\"/>\n",
       "<text text-anchor=\"start\" x=\"7258.33\" y=\"-262.8\" font-family=\"Times,serif\" font-size=\"14.00\">mse = 0.57</text>\n",
       "<text text-anchor=\"start\" x=\"7241.33\" y=\"-247.8\" font-family=\"Times,serif\" font-size=\"14.00\">samples = 9711</text>\n",
       "<text text-anchor=\"start\" x=\"7245.83\" y=\"-232.8\" font-family=\"Times,serif\" font-size=\"14.00\">value = [[3.17]</text>\n",
       "<text text-anchor=\"start\" x=\"7277.83\" y=\"-217.8\" font-family=\"Times,serif\" font-size=\"14.00\">[3.16]</text>\n",
       "<text text-anchor=\"start\" x=\"7277.83\" y=\"-202.8\" font-family=\"Times,serif\" font-size=\"14.00\">[3.19]</text>\n",
       "<text text-anchor=\"start\" x=\"7282.33\" y=\"-187.8\" font-family=\"Times,serif\" font-size=\"14.00\">[3.2]</text>\n",
       "<text text-anchor=\"start\" x=\"7277.83\" y=\"-172.8\" font-family=\"Times,serif\" font-size=\"14.00\">[3.17]</text>\n",
       "<text text-anchor=\"start\" x=\"7277.83\" y=\"-157.8\" font-family=\"Times,serif\" font-size=\"14.00\">[3.15]</text>\n",
       "<text text-anchor=\"start\" x=\"7277.83\" y=\"-142.8\" font-family=\"Times,serif\" font-size=\"14.00\">[3.15]</text>\n",
       "<text text-anchor=\"start\" x=\"7277.83\" y=\"-127.8\" font-family=\"Times,serif\" font-size=\"14.00\">[3.15]</text>\n",
       "<text text-anchor=\"start\" x=\"7282.33\" y=\"-112.8\" font-family=\"Times,serif\" font-size=\"14.00\">[3.1]</text>\n",
       "<text text-anchor=\"start\" x=\"7277.83\" y=\"-97.8\" font-family=\"Times,serif\" font-size=\"14.00\">[3.18]</text>\n",
       "<text text-anchor=\"start\" x=\"7277.83\" y=\"-82.8\" font-family=\"Times,serif\" font-size=\"14.00\">[3.16]</text>\n",
       "<text text-anchor=\"start\" x=\"7277.83\" y=\"-67.8\" font-family=\"Times,serif\" font-size=\"14.00\">[3.13]</text>\n",
       "<text text-anchor=\"start\" x=\"7277.83\" y=\"-52.8\" font-family=\"Times,serif\" font-size=\"14.00\">[3.12]</text>\n",
       "<text text-anchor=\"start\" x=\"7277.83\" y=\"-37.8\" font-family=\"Times,serif\" font-size=\"14.00\">[3.13]</text>\n",
       "<text text-anchor=\"start\" x=\"7282.33\" y=\"-22.8\" font-family=\"Times,serif\" font-size=\"14.00\">[3.1]</text>\n",
       "<text text-anchor=\"start\" x=\"7275.33\" y=\"-7.8\" font-family=\"Times,serif\" font-size=\"14.00\">[3.14]]</text>\n",
       "</g>\n",
       "<!-- 28&#45;&gt;30 -->\n",
       "<g id=\"edge30\" class=\"edge\"><title>28&#45;&gt;30</title>\n",
       "<path fill=\"none\" stroke=\"black\" d=\"M5834.5,-418.184C6111.97,-365.264 6964.18,-202.731 7223.01,-153.367\"/>\n",
       "<polygon fill=\"black\" stroke=\"black\" points=\"7223.89,-156.761 7233.06,-151.449 7222.58,-149.885 7223.89,-156.761\"/>\n",
       "</g>\n",
       "</g>\n",
       "</svg>\n"
      ],
      "text/plain": [
       "<graphviz.files.Source at 0x7f532cf20a20>"
      ]
     },
     "metadata": {},
     "output_type": "display_data"
    }
   ],
   "source": [
    "draw_tree(samp_m.estimators_[0], df, size=60, precision=2)"
   ]
  },
  {
   "cell_type": "code",
   "execution_count": 83,
   "metadata": {},
   "outputs": [
    {
     "data": {
      "text/plain": [
       "1.0738937"
      ]
     },
     "execution_count": 83,
     "metadata": {},
     "output_type": "execute_result"
    }
   ],
   "source": [
    "meany"
   ]
  },
  {
   "cell_type": "code",
   "execution_count": 84,
   "metadata": {},
   "outputs": [
    {
     "data": {
      "text/plain": [
       "1.0724497"
      ]
     },
     "execution_count": 84,
     "metadata": {},
     "output_type": "execute_result"
    }
   ],
   "source": [
    "stdevy"
   ]
  },
  {
   "cell_type": "code",
   "execution_count": null,
   "metadata": {},
   "outputs": [],
   "source": []
  }
 ],
 "metadata": {
  "kernelspec": {
   "display_name": "Python 3",
   "language": "python",
   "name": "python3"
  },
  "language_info": {
   "codemirror_mode": {
    "name": "ipython",
    "version": 3
   },
   "file_extension": ".py",
   "mimetype": "text/x-python",
   "name": "python",
   "nbconvert_exporter": "python",
   "pygments_lexer": "ipython3",
   "version": "3.6.4"
  }
 },
 "nbformat": 4,
 "nbformat_minor": 2
}
